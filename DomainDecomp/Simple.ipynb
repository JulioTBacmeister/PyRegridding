{
 "cells": [
  {
   "cell_type": "code",
   "execution_count": 1,
   "id": "cbf46a0f-ee17-4c95-84ab-0abecf9a4b67",
   "metadata": {},
   "outputs": [],
   "source": [
    "from mpi4py import MPI\n",
    "import numpy as np\n",
    "import os"
   ]
  },
  {
   "cell_type": "code",
   "execution_count": 2,
   "id": "724f4a7d-f8c6-4a8b-b710-ddf23c5747da",
   "metadata": {},
   "outputs": [
    {
     "name": "stdout",
     "output_type": "stream",
     "text": [
      "0 1\n",
      "4\n"
     ]
    }
   ],
   "source": [
    "# Initialize MPI\n",
    "comm = MPI.COMM_WORLD\n",
    "rank = comm.Get_rank()\n",
    "size = comm.Get_size()\n",
    "\n",
    "\n",
    "print(rank,size)\n",
    "\n",
    "#nworkers = cpu_count()\n",
    "nworkers = len(os.sched_getaffinity(0))\n",
    "\n",
    "\n",
    "print(nworkers)"
   ]
  },
  {
   "cell_type": "code",
   "execution_count": null,
   "id": "99266ed8-ed3a-45d6-b403-3615e1f03a56",
   "metadata": {},
   "outputs": [],
   "source": []
  }
 ],
 "metadata": {
  "kernelspec": {
   "display_name": "NPL 2023b",
   "language": "python",
   "name": "npl-2023b"
  },
  "language_info": {
   "codemirror_mode": {
    "name": "ipython",
    "version": 3
   },
   "file_extension": ".py",
   "mimetype": "text/x-python",
   "name": "python",
   "nbconvert_exporter": "python",
   "pygments_lexer": "ipython3",
   "version": "3.10.12"
  }
 },
 "nbformat": 4,
 "nbformat_minor": 5
}

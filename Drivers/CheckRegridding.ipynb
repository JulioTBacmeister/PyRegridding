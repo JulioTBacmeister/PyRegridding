{
 "cells": [
  {
   "cell_type": "code",
   "execution_count": null,
   "id": "5ccf65e8-ff32-4d71-875d-bcadd399d2fc",
   "metadata": {},
   "outputs": [],
   "source": [
    "import sys\n",
    "\n",
    "import xarray as xr\n",
    "import numpy as np\n",
    "import matplotlib.pyplot as plt\n",
    "import pandas as pd\n",
    "\n"
   ]
  },
  {
   "cell_type": "code",
   "execution_count": null,
   "id": "53f74447-78d7-4b4f-b104-dc41e304b88e",
   "metadata": {},
   "outputs": [],
   "source": [
    "#####\n",
    "\n",
    "date=[2010,10,1,0]\n",
    "\n",
    "year=date[0]\n",
    "month=date[1]\n",
    "day=date[2]\n",
    "hour=date[3]\n",
    "\n",
    "hour0 = ( hour//6 )*6\n",
    "ihe = hour - hour0\n",
    "\n",
    "print( year,month,day,hour0 , ihe)"
   ]
  },
  {
   "cell_type": "code",
   "execution_count": null,
   "id": "9e3b0d62-64f2-4200-bc1b-0615c09ab799",
   "metadata": {},
   "outputs": [],
   "source": [
    "#-------------------------------------\n",
    "#  Make ERA5 nmaes/paths\n",
    "#-------------------------------------\n",
    "\n",
    "monStr=str( year ).zfill(4)+str(month).zfill(2)\n",
    "# CAM history style yyyy-mm-dd string\n",
    "ymdStr=str( year ).zfill(4) + '-' + str(month).zfill(2) + '-' + str(day).zfill(2)\n",
    "\n",
    "hour1=hour0+5\n",
    "ymdh0=str( year ).zfill(4)+str(month).zfill(2)+str(day).zfill(2)+str(hour0).zfill(2)\n",
    "ymdh1=str( year ).zfill(4)+str(month).zfill(2)+str(day).zfill(2)+str(hour1).zfill(2)\n",
    "ymdh=ymdh0+'_'+ymdh1\n",
    "    \n",
    "print( \"Time tags for ERA5 files ...\")\n",
    "print(monStr)\n",
    "print(ymdh) \n",
    "\n",
    "era5dir = \"/glade/campaign/collections/rda/data/ds633.6/e5.oper.an.ml/\"\n",
    "wrkdir=era5dir+monStr+\"/\"\n",
    "\n",
    "#Define all file names for later use in dask function\n",
    "#-----------------------------------------------------\n",
    "spfile= wrkdir + 'e5.oper.an.ml.128_134_sp.regn320sc.'+ymdh+'.nc'\n",
    "tfile = wrkdir + 'e5.oper.an.ml.0_5_0_0_0_t.regn320sc.'+ymdh+'.nc'\n",
    "qfile = wrkdir + 'e5.oper.an.ml.0_5_0_1_0_q.regn320sc.'+ymdh+'.nc'\n",
    "ufile = wrkdir + 'e5.oper.an.ml.0_5_0_2_2_u.regn320uv.'+ymdh+'.nc'\n",
    "vfile = wrkdir + 'e5.oper.an.ml.0_5_0_2_3_v.regn320uv.'+ymdh+'.nc'\n",
    "wfile = wrkdir + 'e5.oper.an.ml.0_5_0_2_8_w.regn320sc.'+ymdh+'.nc'\n",
    "all_ERA_files = [ spfile , tfile, qfile, ufile, vfile, wfile ]\n",
    "print( all_ERA_files )"
   ]
  },
  {
   "cell_type": "code",
   "execution_count": null,
   "id": "1cc60e37-0b28-4a51-87e0-65cf8ec7ee60",
   "metadata": {},
   "outputs": [],
   "source": [
    "#-------------------------------------\n",
    "#  Make paths to regridded CAM files\n",
    "#-------------------------------------\n",
    "MySrc=\"ERA5\"\n",
    "MyDst=\"ne30pg3\"  #\"ne120pg3\"\n",
    "MyDstVgrid=\"L93\"\n",
    "\n",
    "SuperDir = \"/glade/campaign/cgd/amp/juliob/ERA5\"\n",
    "version=\"rgC1\"\n",
    "Bdiro=f\"{SuperDir}/{MyDst}/{MyDstVgrid}\"\n",
    "Bfilo= Bdiro + \"/\" + MySrc +\"_x_\"+ MyDst + \"_\"+ MyDstVgrid + \"_\" + version \n",
    "Bfilo = Bfilo + '_WO'\n",
    "\n",
    "# CAM history style yyyy-mm-dd-ss string\n",
    "yymmdd =str( year ).zfill(4) + '-' + str(month).zfill(2) + '-' + str(day).zfill(2)\n",
    "ss = str(int(hour)*3600).zfill(5)\n",
    "timetag =  yymmdd+'-'+ss\n",
    "filo= Bfilo + \".\" + timetag+ \".nc\"\n",
    "print( filo )\n"
   ]
  },
  {
   "cell_type": "code",
   "execution_count": null,
   "id": "52405112-0aab-47e3-8d50-245fbc28ae37",
   "metadata": {},
   "outputs": [],
   "source": [
    "#-------------------------------------\n",
    "#  Make paths to regridded CAM files\n",
    "#-------------------------------------\n",
    "MySrc=\"ERA5\"\n",
    "MyDst=\"ne30pg3\" #\"ne120np4\"\n",
    "MyDstVgrid=\"L93\"\n",
    "\n",
    "SuperDir = \"/glade/campaign/cgd/amp/juliob/ERA5\"\n",
    "version=\"rgC1\"\n",
    "Bdiro2=f\"{SuperDir}/{MyDst}/{MyDstVgrid}\"\n",
    "Bfilo2= Bdiro2 + \"/\" + MySrc +\"_x_\"+ MyDst + \"_\"+ MyDstVgrid + \"_\" + version \n",
    "Bfilo2 = Bfilo2 + '_WO'\n",
    "\n",
    "# CAM history style yyyy-mm-dd-ss string\n",
    "yymmdd =str( year ).zfill(4) + '-' + str(month).zfill(2) + '-' + str(day).zfill(2)\n",
    "ss = str(int(hour)*3600).zfill(5)\n",
    "timetag =  yymmdd+'-'+ss\n",
    "filo2= Bfilo2 + \".\" + timetag+ \".nc\"\n",
    "print( filo2 )\n"
   ]
  },
  {
   "cell_type": "code",
   "execution_count": null,
   "id": "bca95517-fb98-41e2-b629-7e4e25ad09ca",
   "metadata": {},
   "outputs": [],
   "source": [
    "XC=xr.open_dataset( filo )"
   ]
  },
  {
   "cell_type": "code",
   "execution_count": null,
   "id": "83946fa0-9ca6-404a-8f9d-ef86ea166c45",
   "metadata": {},
   "outputs": [],
   "source": [
    "XC2=xr.open_dataset( filo2 )"
   ]
  },
  {
   "cell_type": "code",
   "execution_count": null,
   "id": "43aece81-641c-4a38-a741-c5f92c3733e2",
   "metadata": {},
   "outputs": [],
   "source": [
    "XEu = xr.open_dataset( ufile )"
   ]
  },
  {
   "cell_type": "code",
   "execution_count": null,
   "id": "d8cfa11e-3de3-41d9-aedd-f53e3e9d1da7",
   "metadata": {},
   "outputs": [],
   "source": [
    "XEu"
   ]
  },
  {
   "cell_type": "code",
   "execution_count": null,
   "id": "a9d697ba-f81e-4eb1-acf4-f6c4afa063cb",
   "metadata": {},
   "outputs": [],
   "source": [
    "Epres = XEu.a_model+100000.*XEu.b_model\n",
    "Cpres = XC.lev"
   ]
  },
  {
   "cell_type": "code",
   "execution_count": null,
   "id": "33a02886-6add-4cf3-bd2f-3748f6d92f20",
   "metadata": {},
   "outputs": [],
   "source": [
    "plt.plot(Cpres)"
   ]
  },
  {
   "cell_type": "code",
   "execution_count": null,
   "id": "5b095f4d-a2dc-465a-9c6c-88dc99b2fed8",
   "metadata": {},
   "outputs": [],
   "source": [
    "####\n",
    "Epix = np.abs( Epres - 50_000. ).argmin()\n",
    "Cpix = np.abs( Cpres - 500. ).argmin()\n",
    "print( Cpres[Cpix].values, Epres[Epix].values)\n",
    "\n"
   ]
  },
  {
   "cell_type": "code",
   "execution_count": null,
   "id": "9f47b304-44cd-4cf4-94ba-2558eae02ab6",
   "metadata": {},
   "outputs": [],
   "source": [
    "fig,ax=plt.subplots(1,3,squeeze=False,figsize=(24,8))\n",
    "ulevs=np.linspace(-80,100,num=19)\n",
    "ax[0,0].contour( XEu.longitude, XEu.latitude, XEu.U[ihe,Epix,:,:] ,levels=ulevs )\n",
    "#ax[0,0].set_xlim( (50,150) )\n",
    "#ax[0,0].set_ylim( (0,60) )\n",
    "\n",
    "ax[0,1].tricontour( XC.lon, XC.lat, XC.U[0,Cpix,:] ,levels=ulevs )\n",
    "#ax[0,1].set_xlim( (50,150) )\n",
    "#ax[0,1].set_ylim( (0,60) )\n",
    "\n",
    "\n",
    "ax[0,2].tricontour( XC2.lon, XC2.lat, XC2.U[0,Cpix,:] ,levels=ulevs )\n",
    "#ax[0,2].set_xlim( (50,150) )\n",
    "#ax[0,2].set_ylim( (0,60) )"
   ]
  },
  {
   "cell_type": "code",
   "execution_count": null,
   "id": "27769071-1393-4fbe-b772-259b5953e4c1",
   "metadata": {},
   "outputs": [],
   "source": []
  }
 ],
 "metadata": {
  "kernelspec": {
   "display_name": "NPL 2023b",
   "language": "python",
   "name": "npl-2023b"
  },
  "language_info": {
   "codemirror_mode": {
    "name": "ipython",
    "version": 3
   },
   "file_extension": ".py",
   "mimetype": "text/x-python",
   "name": "python",
   "nbconvert_exporter": "python",
   "pygments_lexer": "ipython3",
   "version": "3.10.12"
  }
 },
 "nbformat": 4,
 "nbformat_minor": 5
}

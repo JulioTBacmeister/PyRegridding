{
 "cells": [
  {
   "cell_type": "code",
   "execution_count": 1,
   "id": "7bd2cca6-d77f-4b1a-a234-caca50e0f875",
   "metadata": {},
   "outputs": [
    {
     "data": {
      "text/plain": [
       "<module 'scripGen' from '/glade/work/juliob/PyRegridding/Drivers/../Regridder/scripGen.py'>"
      ]
     },
     "execution_count": 1,
     "metadata": {},
     "output_type": "execute_result"
    }
   ],
   "source": [
    "# Import packages \n",
    "import sys\n",
    "import argparse as arg\n",
    "\n",
    "import time\n",
    "import numpy as np\n",
    "\n",
    "# import modules in other directories\n",
    "sys.path.append('../Regridder/')\n",
    "import scripGen as SG\n",
    "\n",
    "import importlib\n",
    "importlib.reload( SG )\n",
    "\n",
    "#Rdry = Con.Rdry() # \n",
    "\n"
   ]
  },
  {
   "cell_type": "code",
   "execution_count": 4,
   "id": "04e9b5c8-61d3-4965-b935-7de7fb4bbb1c",
   "metadata": {},
   "outputs": [
    {
     "name": "stdout",
     "output_type": "stream",
     "text": [
      " myGrid w_edge=0.0 ,e_edge=360.0, s_edge=-90.0 ,n_edge=90.0 \n",
      " myGrid nx=2880 ,ny=1440 \n",
      "Shape Centers  (1440, 2880)\n",
      "Shape Corners  (1440, 2880, 4)\n",
      "12.566370614359169 12.566370614359172 -3.552713678800501e-15\n",
      "writing latlon_OxO_scrip.nc\n"
     ]
    }
   ],
   "source": [
    "dso=SG.latlon_to_scrip( myGrid=True, dx=0.125, dy=0.125, file_out='latlon_OxO_scrip.nc' )"
   ]
  },
  {
   "cell_type": "code",
   "execution_count": null,
   "id": "b6de3a8d-6d57-4287-a46f-53c4b0c2d98f",
   "metadata": {},
   "outputs": [],
   "source": [
    "\n"
   ]
  }
 ],
 "metadata": {
  "kernelspec": {
   "display_name": "NPL 2023b",
   "language": "python",
   "name": "npl-2023b"
  },
  "language_info": {
   "codemirror_mode": {
    "name": "ipython",
    "version": 3
   },
   "file_extension": ".py",
   "mimetype": "text/x-python",
   "name": "python",
   "nbconvert_exporter": "python",
   "pygments_lexer": "ipython3",
   "version": "3.10.12"
  }
 },
 "nbformat": 4,
 "nbformat_minor": 5
}

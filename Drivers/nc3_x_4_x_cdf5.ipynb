{
 "cells": [
  {
   "cell_type": "code",
   "execution_count": null,
   "id": "025514ee-795c-47e8-a277-c7cf741885eb",
   "metadata": {},
   "outputs": [],
   "source": [
    "#!/usr/bin/env python\n",
    "# Import packages \n",
    "import sys\n",
    "import argparse as arg\n",
    "# import modules in other directories\n",
    "# sys.path.append('/glade/work/juliob/PyRegridding/Regridder/')\n",
    "# sys.path.append('/glade/work/juliob/PyRegridding/Utils/')\n",
    "sys.path.append('../Regridder/')\n",
    "sys.path.append('../Utils/')\n",
    "\n",
    "\n",
    "import importlib\n",
    "import glob\n",
    "import copy\n",
    "#import time\n",
    "import os \n",
    "import subprocess as sp\n",
    "\n",
    "import xarray as xr\n",
    "import numpy as np\n",
    "import pandas as pd\n",
    "import matplotlib.pyplot as plt\n",
    "import matplotlib.tri as tri\n",
    "\n",
    "try:\n",
    "    import ESMF as E\n",
    "except ImportError:\n",
    "    import esmpy as E\n",
    "\n",
    "import scripGen as SG\n",
    "import esmfRegrid as erg\n",
    "import scipy\n",
    "\n",
    "# \"ChatGPI version\" --- \n",
    "import VertRegridFlexLL as vrg\n",
    "print( \"Using Flexible parallel/serial VertRegrid \")\n",
    "\n",
    "import GridUtils as GrU\n",
    "import MakePressures as MkP\n",
    "import humiditycalcs as hum\n",
    "import MyConstants as Con\n",
    "\n",
    "# Reload local packages that are under\n",
    "# development\n",
    "importlib.reload( erg )\n",
    "importlib.reload( vrg )\n",
    "importlib.reload( SG )\n",
    "importlib.reload( MkP )\n",
    "importlib.reload( hum )\n",
    "importlib.reload( GrU )\n",
    "importlib.reload( Con )\n",
    "#importlib.reload( Gv )\n",
    "\n"
   ]
  },
  {
   "cell_type": "code",
   "execution_count": null,
   "id": "9184feda-bc93-44b8-a4db-f58052ca9b9d",
   "metadata": {},
   "outputs": [],
   "source": [
    "import glob\n",
    "import subprocess\n",
    "\n",
    "\n",
    "# Specify the directory path and the pattern to match files\n",
    "directory_path = '/glade/campaign/cgd/amp/juliob/ERA5/ne480pg3/L93/' # '/path/to/directory'\n",
    "file_pattern = 'ERA5*.nc'  # Example pattern to match NetCDF files, adjust as needed\n",
    "\n",
    "# Use glob.glob() to generate a list of files matching the pattern in the directory\n",
    "file_list = sorted( glob.glob(directory_path + '/' + file_pattern) )\n",
    "\n",
    "# Print the list of files\n",
    "for file_i in file_list[0:1]:\n",
    "    #file_o = file_i.replace('/L93/','/L93_nc4/')\n",
    "    file_o = file_i.replace('/L93/','/L93_nc4/')\n",
    "    file_c = file_i.replace('/L93/','/L93_nc3_64b/')\n",
    "    X=xr.open_dataset( file_i , format=\"NETCDF3_64BIT\" , engine='scipy' )\n",
    "    print(f'Opened {file_i}' )\n",
    "    #X.to_netcdf( file_o )\n",
    "    X.to_netcdf( file_o, format=\"NETCDF3_64BIT_DATA\"  , engine='scipy'  )\n",
    "    print(f'Wrote {file_o}' )\n",
    "    del X\n",
    "    \"\"\"\n",
    "    print(f'Cleared X from memory' )\n",
    "    # Construct the command to run\n",
    "    command = ['nccopy', '-k', 'cdf5', file_o, file_c]\n",
    "    subprocess.run(command, check=True)\n",
    "    print(f\"nccopy {file_o} to {file_c} completed successfully.\")\n",
    "    \"\"\"\n"
   ]
  },
  {
   "cell_type": "code",
   "execution_count": null,
   "id": "25b5a1c7-29c9-4724-b0f6-9d83c0a4c26f",
   "metadata": {},
   "outputs": [],
   "source": [
    "import subprocess\n",
    "\n",
    "def run_nccopy(file_in, file_out):\n",
    "    # Construct the command to run\n",
    "    command = ['nccopy', '-k', 'cdf5', file_in, file_out]\n",
    "    \n",
    "    # Run the command\n",
    "    try:\n",
    "        subprocess.run(command, check=True)\n",
    "        print(\"nccopy completed successfully.\")\n",
    "    except subprocess.CalledProcessError as e:\n",
    "        print(f\"nccopy command failed with return code {e.returncode}.\")\n",
    "        print(f\"Output:\\n{e.output.decode()}\")\n"
   ]
  },
  {
   "cell_type": "code",
   "execution_count": null,
   "id": "34f81f82-7495-4a33-a23b-89c3c794ec90",
   "metadata": {},
   "outputs": [],
   "source": [
    "\n",
    "f='/glade/campaign/cgd/amp/juliob/ERA5/ne480pg3/L93_cdf5/ERA5_x_ne480pg3_L93_Test01_WO.2004-07-02-39600.nc'\n",
    "C=xr.open_dataset( f )"
   ]
  },
  {
   "cell_type": "code",
   "execution_count": null,
   "id": "cf15d5c5-94ae-44cc-8613-62d52ff781ea",
   "metadata": {},
   "outputs": [],
   "source": [
    "fo='/glade/campaign/cgd/amp/juliob/ERA5/ne480pg3/yaag.nc'\n",
    "C.to_netcdf( fo, format='CDF5' )"
   ]
  },
  {
   "cell_type": "code",
   "execution_count": null,
   "id": "d90ec50f-6937-4253-a539-48f70168dbce",
   "metadata": {},
   "outputs": [],
   "source": [
    "\n",
    "\n",
    "f='/glade/campaign/cgd/amp/juliob/ERA5/ne480pg3/L93/ERA5_x_ne480pg3_L93_Test01_WO.2004-07-01-00000.nc'\n",
    "\n",
    "X=xr.open_dataset( f , format=\"NETCDF3_64BIT\" , engine='scipy' )\n",
    "\n"
   ]
  },
  {
   "cell_type": "code",
   "execution_count": null,
   "id": "827ff84d-f775-4464-8aa3-32b2428e7703",
   "metadata": {},
   "outputs": [],
   "source": [
    "X"
   ]
  },
  {
   "cell_type": "code",
   "execution_count": null,
   "id": "5d3ae41b-6eae-4494-a895-bbe9390bc422",
   "metadata": {},
   "outputs": [],
   "source": [
    "plt.plot(X.T[0,40,:])"
   ]
  },
  {
   "cell_type": "code",
   "execution_count": null,
   "id": "53908b82-500b-4fb1-a7a9-84ddc0e8c3b0",
   "metadata": {},
   "outputs": [],
   "source": [
    "fo='/glade/campaign/cgd/amp/juliob/ERA5/ne480pg3/L93_nc4/ERA5_x_ne480pg3_L93_Test01_WO.2004-07-01-00000.nc'\n",
    "X.to_netcdf( fo )"
   ]
  },
  {
   "cell_type": "code",
   "execution_count": null,
   "id": "66af0d46-a10f-45ff-80c7-8f1ef965b017",
   "metadata": {},
   "outputs": [],
   "source": []
  }
 ],
 "metadata": {
  "kernelspec": {
   "display_name": "NPL 2023b",
   "language": "python",
   "name": "npl-2023b"
  },
  "language_info": {
   "codemirror_mode": {
    "name": "ipython",
    "version": 3
   },
   "file_extension": ".py",
   "mimetype": "text/x-python",
   "name": "python",
   "nbconvert_exporter": "python",
   "pygments_lexer": "ipython3",
   "version": "3.10.12"
  }
 },
 "nbformat": 4,
 "nbformat_minor": 5
}

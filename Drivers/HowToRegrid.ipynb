{
 "cells": [
  {
   "cell_type": "code",
   "execution_count": 1,
   "id": "f1d09ba6-07c4-4607-ac60-684a3cc00b73",
   "metadata": {},
   "outputs": [
    {
     "name": "stdout",
     "output_type": "stream",
     "text": [
      " a path added in VertRegridFlexLL /glade/work/juliob/PyRegridding/Regridder/../Utils \n",
      " MyConstants in /glade/work/juliob/PyRegridding/Utils \n",
      "Using Flexible parallel/serial VertRegrid \n",
      " a path added in VertRegridFlexLL /glade/work/juliob/PyRegridding/Regridder/../Utils \n",
      " MyConstants in /glade/work/juliob/PyRegridding/Utils \n"
     ]
    }
   ],
   "source": [
    "workdir_ = '/glade/work/juliob/'\n",
    "import sys\n",
    "import os\n",
    "\n",
    "\n",
    "# The usual packages\n",
    "from datetime import date\n",
    "import numpy as np\n",
    "import xarray as xr\n",
    "import matplotlib.pyplot as plt\n",
    "import matplotlib.tri as tri\n",
    "\n",
    "sys.path.append(workdir_ + 'PyRegridding/Drivers/')\n",
    "import RegridField as RgF\n"
   ]
  },
  {
   "cell_type": "code",
   "execution_count": 3,
   "id": "9b5e7c18-b245-4303-9685-f739067f971f",
   "metadata": {},
   "outputs": [
    {
     "name": "stdout",
     "output_type": "stream",
     "text": [
      "juliob\n"
     ]
    }
   ],
   "source": [
    "user = os.environ.get('USER') or os.environ.get('USERNAME')\n",
    "print( user )"
   ]
  },
  {
   "cell_type": "code",
   "execution_count": null,
   "id": "0af322eb-5102-4adb-b8b2-70df5ee75b47",
   "metadata": {},
   "outputs": [],
   "source": [
    "file = '/glade/work/juliob/GridFiles/Topo/ne240pg3_gmted2010_modis_bedmachine_nc3000_Laplace0012_noleak_20240329.nc'\n",
    "X=xr.open_dataset( file )\n",
    "topo_ne240 = X.PHIS.values/9.8\n",
    "\n",
    "# lat lons need for plotting but NOT for regridding\n",
    "#---------------------------------------------------\n",
    "lon_ne240 = X.lon.values\n",
    "lat_ne240 = X.lat.values"
   ]
  },
  {
   "cell_type": "code",
   "execution_count": null,
   "id": "d5c58513-96e8-489f-9ba6-f4138196085c",
   "metadata": {},
   "outputs": [],
   "source": [
    "# Basic regridding call\n",
    "\n",
    "# \"Nicknames\" for horizontal grids\n",
    "#----------------------------------\n",
    "#  Source grid\n",
    "Src = 'ne240pg3'\n",
    "Dst = 'latlonOxO'\n",
    "\n",
    "topo_OxO = RgF.Horz(xfld_Src=topo_ne240 , Src=Src, Dst=Dst ) # , RegridObj_In= RegridObj )\n"
   ]
  },
  {
   "cell_type": "code",
   "execution_count": null,
   "id": "d736dc0c-da76-4cbf-ae84-684ef348d4ba",
   "metadata": {},
   "outputs": [],
   "source": []
  }
 ],
 "metadata": {
  "kernelspec": {
   "display_name": "NPL 2024b",
   "language": "python",
   "name": "npl-2024b"
  },
  "language_info": {
   "codemirror_mode": {
    "name": "ipython",
    "version": 3
   },
   "file_extension": ".py",
   "mimetype": "text/x-python",
   "name": "python",
   "nbconvert_exporter": "python",
   "pygments_lexer": "ipython3",
   "version": "3.11.9"
  }
 },
 "nbformat": 4,
 "nbformat_minor": 5
}

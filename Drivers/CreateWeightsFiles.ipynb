{
 "cells": [
  {
   "cell_type": "code",
   "execution_count": 1,
   "id": "5511320e-fe89-488a-9b1c-337443e63df3",
   "metadata": {},
   "outputs": [
    {
     "name": "stdout",
     "output_type": "stream",
     "text": [
      " MyConstants in /glade/work/juliob/PyRegridding/Utils \n"
     ]
    },
    {
     "data": {
      "text/plain": [
       "<module 'GridUtils' from '/glade/work/juliob/PyRegridding/Drivers/../Utils/GridUtils.py'>"
      ]
     },
     "execution_count": 1,
     "metadata": {},
     "output_type": "execute_result"
    }
   ],
   "source": [
    "#!/usr/bin/env python\n",
    "# Import packages \n",
    "import sys\n",
    "import argparse as arg\n",
    "# import modules in other directories\n",
    "# sys.path.append('/glade/work/juliob/PyRegridding/Regridder/')\n",
    "# sys.path.append('/glade/work/juliob/PyRegridding/Utils/')\n",
    "sys.path.append('../Regridder/')\n",
    "sys.path.append('../Utils/')\n",
    "\n",
    "\n",
    "import importlib\n",
    "import glob\n",
    "import copy\n",
    "#import time\n",
    "import os \n",
    "import subprocess as sp\n",
    "\n",
    "import xarray as xr\n",
    "import numpy as np\n",
    "import pandas as pd\n",
    "import matplotlib.pyplot as plt\n",
    "\n",
    "try:\n",
    "    import ESMF as E\n",
    "except ImportError:\n",
    "    import esmpy as E\n",
    "\n",
    "import scripGen as SG\n",
    "import esmfRegrid as erg\n",
    "\n",
    "\n",
    "import GridUtils as GrU\n",
    "import MakePressures as MkP\n",
    "import humiditycalcs as hum\n",
    "import MyConstants as Con\n",
    "\n",
    "# Reload local packages that are under\n",
    "# development\n",
    "importlib.reload( erg )\n",
    "importlib.reload( GrU )\n",
    "\n"
   ]
  },
  {
   "cell_type": "code",
   "execution_count": 2,
   "id": "23484029-6780-4852-bc01-93ce7dcb1541",
   "metadata": {},
   "outputs": [
    {
     "name": "stdout",
     "output_type": "stream",
     "text": [
      "pop \n",
      " 10\n"
     ]
    }
   ],
   "source": [
    "Src,Dst='ne240pg3','ne16pg3'\n",
    "dstInfo  = GrU.gridInfo(Dst)\n",
    "print( 'pop', '\\n' , 10 )"
   ]
  },
  {
   "cell_type": "code",
   "execution_count": 3,
   "id": "24f39212-95f8-4177-82e6-5ab6034d7869",
   "metadata": {},
   "outputs": [
    {
     "name": "stdout",
     "output_type": "stream",
     "text": [
      "/glade/campaign/cesm/cesmdata/cseg/inputdata/share/scripgrids/ne16pg3_scrip_170429.nc \n",
      " (13824,)\n",
      "/glade/campaign/cesm/cesmdata/cseg/inputdata/share/scripgrids/ne240pg3_scrip_170628.nc \n",
      " (3110400,)\n",
      "/glade/work/juliob/GridFiles/Weights/ne240pg3_x_ne16pg3_CONSERVE_2ND.nc\n",
      "Generating regridding weights. Method CONSERVE_2ND : ESMF method= 5\n",
      "CPU times: user 1min 58s, sys: 5.38 s, total: 2min 4s\n",
      "Wall time: 2min 10s\n"
     ]
    }
   ],
   "source": [
    "%%time\n",
    "Src,Dst='ne240pg3','ne16pg3'\n",
    "Regrd1, srcField1, dstField1  = erg.GenWrtRdWeights( Dst=Dst , Src=Src , UseFiles=True )"
   ]
  },
  {
   "cell_type": "code",
   "execution_count": 4,
   "id": "ae952ba5-de3a-4a04-bf10-c511c1813465",
   "metadata": {},
   "outputs": [
    {
     "name": "stdout",
     "output_type": "stream",
     "text": [
      "/glade/campaign/cesm/cesmdata/cseg/inputdata/share/scripgrids/ne240pg3_scrip_170628.nc \n",
      " (3110400,)\n",
      "/glade/campaign/cesm/cesmdata/cseg/inputdata/share/scripgrids/ne16pg3_scrip_170429.nc \n",
      " (13824,)\n",
      "/glade/work/juliob/GridFiles/Weights/ne16pg3_x_ne240pg3_CONSERVE_2ND.nc\n",
      "Generating regridding weights. Method CONSERVE_2ND : ESMF method= 5\n",
      "CPU times: user 2min 45s, sys: 6.7 s, total: 2min 51s\n",
      "Wall time: 3min 1s\n"
     ]
    }
   ],
   "source": [
    "%%time\n",
    "Dst,Src='ne240pg3','ne16pg3'\n",
    "Regrd2, srcField2, dstField2  = erg.GenWrtRdWeights( Dst=Dst , Src=Src , UseFiles=True )"
   ]
  },
  {
   "cell_type": "code",
   "execution_count": null,
   "id": "2c1328df-31d4-4de8-b275-8826ceb86dfb",
   "metadata": {},
   "outputs": [],
   "source": []
  },
  {
   "cell_type": "code",
   "execution_count": null,
   "id": "6f19bd0f-9879-43fd-be23-42c874bad5c3",
   "metadata": {},
   "outputs": [],
   "source": []
  },
  {
   "cell_type": "code",
   "execution_count": null,
   "id": "d2835d48-35a9-4619-9b3d-cba3d4e406fb",
   "metadata": {},
   "outputs": [],
   "source": [
    "file = '/glade/derecho/scratch/juliob/archive/c64_gwR2_ne30pg3_FMTHIST_topfix_oldCTL_qbotune_x03/atm/hist/c64_gwR2_ne30pg3_FMTHIST_topfix_oldCTL_qbotune_x03.cam.h0i.1985-01.nc'\n",
    "X=xr.open_dataset( file )"
   ]
  },
  {
   "cell_type": "code",
   "execution_count": null,
   "id": "783e20c7-726a-4a9d-8bdf-69030bf2458d",
   "metadata": {},
   "outputs": [],
   "source": [
    "\n",
    "file = '/glade/derecho/scratch/juliob/archive/c153_topfix_ne240pg3_FMTHIST_QxQsst_xic_x02/atm/hist/c153_topfix_ne240pg3_FMTHIST_QxQsst_xic_x02.cam.h0i.2004-06.nc'\n",
    "file = '/glade/work/juliob/GridFiles/Topo/ne240pg3_gmted2010_modis_bedmachine_nc3000_Laplace0012_noleak_20240329.nc'\n",
    "X=xr.open_dataset( file )"
   ]
  },
  {
   "cell_type": "code",
   "execution_count": null,
   "id": "22f1ab57-0488-42ce-91df-6c78eb791baa",
   "metadata": {},
   "outputs": [],
   "source": [
    "phi=X.PHIS.values"
   ]
  },
  {
   "cell_type": "code",
   "execution_count": null,
   "id": "f119a923-7c37-4773-a386-f22960d3979c",
   "metadata": {},
   "outputs": [],
   "source": [
    "\n",
    "srcField0.data[:] = phi[:]\n",
    "srcField1.data[:] = phi[:]\n"
   ]
  },
  {
   "cell_type": "code",
   "execution_count": null,
   "id": "e2d07b42-b437-4bb4-bb1a-25e1b40361a9",
   "metadata": {},
   "outputs": [],
   "source": [
    "\n",
    "poop0  = Regrd0(  srcField0 ,  dstField0 )\n",
    "\n",
    "poop1  = Regrd1(  srcField1 ,  dstField1 )"
   ]
  },
  {
   "cell_type": "code",
   "execution_count": null,
   "id": "68995ee3-c85f-44b2-9d12-fcbc59e7b0d6",
   "metadata": {},
   "outputs": [],
   "source": [
    "plt.contourf( dstField0.data.T )\n",
    "plt.colorbar()"
   ]
  },
  {
   "cell_type": "code",
   "execution_count": null,
   "id": "2afc5298-430b-4a68-9707-c7ace29901c0",
   "metadata": {},
   "outputs": [],
   "source": [
    "plt.contourf( dstField1.data.T )\n",
    "plt.colorbar()"
   ]
  },
  {
   "cell_type": "code",
   "execution_count": null,
   "id": "1e82211a-ce34-421d-8c17-45eebec0503e",
   "metadata": {},
   "outputs": [],
   "source": [
    "plt.contourf( dstField1.data.T - dstField0.data.T )\n",
    "plt.colorbar()"
   ]
  },
  {
   "cell_type": "code",
   "execution_count": null,
   "id": "d4dce007-6d33-4f55-aedf-d72a6f43a1e0",
   "metadata": {},
   "outputs": [],
   "source": []
  }
 ],
 "metadata": {
  "kernelspec": {
   "display_name": "NPL 2024b",
   "language": "python",
   "name": "npl-2024b"
  },
  "language_info": {
   "codemirror_mode": {
    "name": "ipython",
    "version": 3
   },
   "file_extension": ".py",
   "mimetype": "text/x-python",
   "name": "python",
   "nbconvert_exporter": "python",
   "pygments_lexer": "ipython3",
   "version": "3.11.9"
  }
 },
 "nbformat": 4,
 "nbformat_minor": 5
}

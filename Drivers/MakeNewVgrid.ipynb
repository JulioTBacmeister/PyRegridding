{
 "cells": [
  {
   "cell_type": "code",
   "execution_count": 1,
   "id": "7bd2cca6-d77f-4b1a-a234-caca50e0f875",
   "metadata": {},
   "outputs": [
    {
     "data": {
      "text/plain": [
       "<module 'scripGen' from '/glade/work/juliob/PyRegridding/Drivers/../Regridder/scripGen.py'>"
      ]
     },
     "execution_count": 1,
     "metadata": {},
     "output_type": "execute_result"
    }
   ],
   "source": [
    "# Import packages \n",
    "import sys\n",
    "import argparse as arg\n",
    "\n",
    "import time\n",
    "import numpy as np\n",
    "import xarray as xr\n",
    "import matplotlib.pyplot as plt\n",
    "\n",
    "# import modules in other directories\n",
    "sys.path.append('../Regridder/')\n",
    "import scripGen as SG\n",
    "\n",
    "import importlib\n",
    "importlib.reload( SG )\n",
    "\n",
    "#Rdry = Con.Rdry() # \n",
    "\n"
   ]
  },
  {
   "cell_type": "markdown",
   "id": "5e05f9df-f535-4e4c-9662-934031dc9f61",
   "metadata": {},
   "source": [
    " given by\n",
    "\n",
    "p(\\eta) = A(\\eta) p_0 + B(\\eta) p_s."
   ]
  },
  {
   "cell_type": "code",
   "execution_count": 2,
   "id": "b271f92a-621a-42d2-884e-db5b0cd7c590",
   "metadata": {},
   "outputs": [],
   "source": [
    "def Original_as_bs( px , pcross=0.086 , gridalign=False ):\n",
    "    m=( (1.0-0.0) / (1.0-pcross ) )\n",
    "    Lx = len( px )\n",
    "\n",
    "    if ( gridalign == True ):\n",
    "        oo=np.where( p58 > pcross )\n",
    "        pshift = pcross - p58[ oo[0][0]-1 ]\n",
    "    else:\n",
    "        pshift=0.0\n",
    "\n",
    "    hybi_1 = m*(px -pcross +pshift)\n",
    "    hyai_1 = px\n",
    "    ##\n",
    "    hybi_2 = np.where( hybi_1<0. , 0., hybi_1 )\n",
    "    hyai_2 = px - hybi_2 # - m*pshift\n",
    "    ###\n",
    "    hyai_3 = np.where( hyai_2<0. , 0., hyai_2 )\n",
    "    hybi_3 = px - hyai_3\n",
    "    \n",
    "    hyai,hybi = hyai_3, hybi_3\n",
    "    return hyai,hybi"
   ]
  },
  {
   "cell_type": "code",
   "execution_count": 3,
   "id": "04e9b5c8-61d3-4965-b935-7de7fb4bbb1c",
   "metadata": {},
   "outputs": [],
   "source": [
    "#####################################\n",
    "myGridFiles = '/glade/work/juliob/GridFiles/'\n"
   ]
  },
  {
   "cell_type": "code",
   "execution_count": 4,
   "id": "b6de3a8d-6d57-4287-a46f-53c4b0c2d98f",
   "metadata": {},
   "outputs": [],
   "source": [
    "L135f = '/glade/work/juliob/f.e23.FWmaHIST.ne16pg3_mg17_L135_tag119fvitt_beres0.6.cam.i.2001-01-01-00000.nc'\n",
    "L135fnew = '/glade/work/juliob/f.e23.FWmaHIST.ne16pg3_mg17_L135_c240604_tag119fvitt_beres0.6.cam.i.2001-01-01-00000.nc'\n",
    "\n",
    "L58f = f'{myGridFiles}/Vertical/GRID_48_taperstart10km_lowtop_BL10_v3p1_beta1p75.nc'\n",
    "L32f = f'{myGridFiles}/Vertical/GRID_32L_CAM6.nc'\n",
    "#L93f = f'{myGridFiles}/Vertical/GRID_93L_CAM7_c202312.nc'\n",
    "L93f = f'{myGridFiles}/Vertical/GRID_93L_CAM7_OrigAB_c20240514.nc'\n",
    "#L93f = '/glade/campaign/cgd/amp/juliob/ERA5/ne30np4/L93/ERA5_x_ne30np4_L93_Test01_WO.1985-01-01-00000.nc'\n",
    "#L93f='/glade/derecho/scratch/juliob/archive/c153_ne30pg3_FMTHIST_x02/rest/1990-01-01-00000/c153_ne30pg3_FMTHIST_x02.cam.i.1990-01-01-00000.nc'"
   ]
  },
  {
   "cell_type": "code",
   "execution_count": 5,
   "id": "28b6204b-79a4-40d3-b160-400ae9790539",
   "metadata": {},
   "outputs": [],
   "source": [
    "L32=xr.open_dataset( L32f )\n",
    "L58=xr.open_dataset( L58f )\n",
    "L93=xr.open_dataset( L93f )\n",
    "L135=xr.open_dataset( L135fnew )\n",
    "\n",
    "p58 = L58.hyai.values + L58.hybi.values\n",
    "p93 = L93.hyai.values + L93.hybi.values\n",
    "p135 = L135.hyai.values + L135.hybi.values\n",
    "\n",
    "pXX = p135\n",
    "hyai_in = L135.hyai.values\n",
    "hybi_in = L135.hybi.values\n",
    "hyai_58 = L58.hyai.values\n",
    "hybi_58 = L58.hybi.values\n"
   ]
  },
  {
   "cell_type": "code",
   "execution_count": 9,
   "id": "ac9d2bdf-7a8f-4cc8-93f6-e0269f79972b",
   "metadata": {},
   "outputs": [
    {
     "name": "stdout",
     "output_type": "stream",
     "text": [
      "[ 1.40061917e+05  1.28781094e+05  1.23714950e+05  1.19656958e+05\n",
      "  1.16268166e+05  1.13197068e+05  1.10197068e+05  1.07197068e+05\n",
      "  1.04197068e+05  1.01197081e+05  9.82034054e+04  9.52313035e+04\n",
      "  9.22984171e+04  8.94207396e+04  8.66121667e+04  8.38842217e+04\n",
      "  8.12459516e+04  7.87039710e+04  7.62626213e+04  7.39242085e+04\n",
      "  7.16892855e+04  6.95569497e+04  6.75251333e+04  6.55908729e+04\n",
      "  6.37505477e+04  6.20000842e+04  6.03351258e+04  5.87511702e+04\n",
      "  5.72436771e+04  5.58081507e+04  5.44402011e+04  5.31355874e+04\n",
      "  5.18902479e+04  5.07003177e+04  4.95621390e+04  4.84722643e+04\n",
      "  4.74274547e+04  4.64246749e+04  4.54610859e+04  4.45340361e+04\n",
      "  4.36410508e+04  4.27798222e+04  4.19481985e+04  4.11441734e+04\n",
      "  4.03658758e+04  3.96115599e+04  3.88795957e+04  3.81684603e+04\n",
      "  3.74767291e+04  3.68030683e+04  3.61462277e+04  3.55050333e+04\n",
      "  3.48783815e+04  3.42652329e+04  3.36646071e+04  3.30755773e+04\n",
      "  3.24972660e+04  3.19288401e+04  3.13695076e+04  3.08185132e+04\n",
      "  3.02751348e+04  2.97386805e+04  2.92084857e+04  2.86839093e+04\n",
      "  2.81643321e+04  2.76491533e+04  2.71377885e+04  2.66296673e+04\n",
      "  2.61242309e+04  2.56209298e+04  2.51192221e+04  2.46185710e+04\n",
      "  2.41273693e+04  2.36273693e+04  2.31273693e+04  2.26273693e+04\n",
      "  2.21273693e+04  2.16273693e+04  2.11273693e+04  2.06273693e+04\n",
      "  2.01273693e+04  1.96273693e+04  1.91273693e+04  1.86273693e+04\n",
      "  1.81273693e+04  1.76273693e+04  1.71273693e+04  1.66273693e+04\n",
      "  1.61273693e+04  1.56273693e+04  1.51273693e+04  1.46273693e+04\n",
      "  1.41273693e+04  1.36273693e+04  1.31273693e+04  1.26273693e+04\n",
      "  1.21273693e+04  1.16273693e+04  1.11273693e+04  1.06273693e+04\n",
      "  1.01273693e+04  9.62736934e+03  9.12736934e+03  8.62736934e+03\n",
      "  8.12736934e+03  7.62736934e+03  7.12736934e+03  6.62736934e+03\n",
      "  6.12736934e+03  5.62736934e+03  5.12736934e+03  4.62736934e+03\n",
      "  4.12736934e+03  3.64647058e+03  3.21485475e+03  2.83857912e+03\n",
      "  2.50817164e+03  2.21628885e+03  1.95712469e+03  1.72601138e+03\n",
      "  1.51914207e+03  1.33337321e+03  1.16608057e+03  1.01505240e+03\n",
      "  8.78408745e+02  7.54539594e+02  6.42056794e+02  5.39756242e+02\n",
      "  4.46587801e+02  3.61631109e+02  2.84075966e+02  2.13206278e+02\n",
      "  1.48386811e+02  8.90521903e+01  3.46976945e+01 -0.00000000e+00]\n"
     ]
    }
   ],
   "source": [
    "print( -7_000. * np.log(p135) )"
   ]
  },
  {
   "cell_type": "code",
   "execution_count": null,
   "id": "71ed61cb-484a-4d91-a595-eafe1917dafc",
   "metadata": {},
   "outputs": [],
   "source": [
    "hyaiXX , hybiXX =Original_as_bs(pXX , gridalign=True)"
   ]
  },
  {
   "cell_type": "code",
   "execution_count": null,
   "id": "32f1fa0b-d6ff-4efe-aa30-02228badced7",
   "metadata": {},
   "outputs": [],
   "source": [
    "L93"
   ]
  },
  {
   "cell_type": "code",
   "execution_count": null,
   "id": "3e29e3e5-43fe-4ce8-a325-64c23e0c9036",
   "metadata": {},
   "outputs": [],
   "source": [
    "pXX.shape"
   ]
  },
  {
   "cell_type": "code",
   "execution_count": null,
   "id": "cb0cd8db-391c-4ec4-a46f-dce160dfa948",
   "metadata": {},
   "outputs": [],
   "source": [
    "#plt.plot(p58,bb)\n",
    "#plt.plot(p58,L58.hybi)\n",
    "#plt.plot(p58,aa)\n",
    "\n",
    "fig,ax=plt.subplots( 1,1 , squeeze=False, figsize=(14,8) )\n",
    "\n",
    "ax[0,0].plot(hyaiXX  , 1_000.*pXX, '-o' ,color='red'  , label='New L93 $A(\\eta)$' )\n",
    "ax[0,0].plot(hyai_in , 1_000.*pXX ,'-x', color='black' , label='Current default L93 $A(\\eta)$'   )\n",
    "ax[0,0].plot(hybiXX  , 1_000.*pXX ,color='red' , label='New L93 $B(\\eta)$'  )\n",
    "ax[0,0].plot(hybi_in , 1_000.*pXX, color='black' , label='Current default L93 $B(\\eta)$'   )\n",
    "\n",
    "annot3= ax[0,0].text( 0.15,.05,f'\"Current default\"={L93f}' , transform=ax[0,0].transAxes, fontsize=10, bbox=dict(facecolor='white') )\n",
    "\n",
    "\n",
    "print( hyaiXX[-4:] )\n",
    "print( hyai_in[-4:] )\n",
    "print( hybiXX[-4:] )\n",
    "print( hybi_in[-4:] )\n",
    "plt.ylim( (1000.,0.) )\n",
    "plt.legend(fontsize=14)\n",
    "plt.ylabel( \"$P_{ref}$ (hPa)\" ,fontsize=20)\n",
    "plt.title( \"$\\mathrm{hybrid}~~A(\\eta)~~\\mathrm{and}~~B(\\eta)$\", fontsize=24 )"
   ]
  },
  {
   "cell_type": "code",
   "execution_count": null,
   "id": "685399fb-f5ba-4e14-8ab5-7698874bba2d",
   "metadata": {},
   "outputs": [],
   "source": [
    "#plt.plot(p58,bb)\n",
    "#plt.plot(p58,L58.hybi)\n",
    "#plt.plot(p58,aa)\n",
    "\n",
    "fig,ax=plt.subplots( 1,1 , squeeze=False, figsize=(14,8) )\n",
    "\n",
    "ax[0,0].plot(hyaiXX  , 1_000.*pXX, '-o' ,color='red'  , label='New L93 $A(\\eta)$' )\n",
    "ax[0,0].plot(hyai_58 , 1_000.*p58 ,'-x', color='blue' , label='Current default L58 $A(\\eta)$'   )\n",
    "ax[0,0].plot(hybiXX  , 1_000.*pXX ,color='red' , label='New L93 $B(\\eta)$'  )\n",
    "ax[0,0].plot(hybi_58 , 1_000.*p58, color='blue' , label='Current default L58 $B(\\eta)$'   )\n",
    "\n",
    "\n",
    "print( hyaiXX[-4:] )\n",
    "print( hyai_in[-4:] )\n",
    "print( hybiXX[-4:] )\n",
    "print( hybi_in[-4:] )\n",
    "plt.ylim( (1000.,0.) )\n",
    "plt.legend(fontsize=14)\n",
    "plt.ylabel( \"$P_{ref}$ (hPa)\" ,fontsize=20)\n",
    "plt.title( \"$\\mathrm{hybrid}~~A(\\eta)~~\\mathrm{and}~~B(\\eta)$\", fontsize=24 )"
   ]
  },
  {
   "cell_type": "code",
   "execution_count": null,
   "id": "5e166fba-ee61-42b1-a824-2c249bf77fa7",
   "metadata": {},
   "outputs": [],
   "source": [
    "#plt.plot(p58,bb)\n",
    "#plt.plot(p58,L58.hybi)\n",
    "#plt.plot(p58,aa)\n",
    "\n",
    "fig,ax=plt.subplots( 1,2 , squeeze=False, figsize=(14,8) )\n",
    "\n",
    "ax[0,0].plot(pXX,hyaiXX  , 'o' ,color='red')\n",
    "ax[0,0].plot(pXX,hyai_in ,'x', color='black' )\n",
    "ax[0,1].plot(pXX,hybiXX  , 'o' ,color='red')\n",
    "ax[0,1].plot(pXX,hybi_in ,'x', color='black' )\n",
    "\n",
    "\n",
    "print( hyaiXX[-4:] )\n",
    "print( hyai_in[-4:] )\n",
    "print( hybiXX[-4:] )\n",
    "print( hybi_in[-4:] )\n",
    "\n"
   ]
  },
  {
   "cell_type": "code",
   "execution_count": null,
   "id": "aed2b96d-09c1-4418-985a-66533d20ffe5",
   "metadata": {},
   "outputs": [],
   "source": [
    "nzXXe  =len(pXX)\n",
    "nzXX   =nzXXe-1\n",
    "\n",
    "\n",
    "hyamXX = np.zeros( nzXX )\n",
    "hybmXX = np.zeros( nzXX )\n",
    "\n",
    "for L in np.arange( 0, nzXX, 1):\n",
    "    hyamXX[L] = 0.5 * ( hyaiXX[L] + hyaiXX[L+1] )\n",
    "    hybmXX[L] = 0.5 * ( hybiXX[L] + hybiXX[L+1] ) \n"
   ]
  },
  {
   "cell_type": "code",
   "execution_count": null,
   "id": "8a351b29-cd93-4df3-8d2f-427bc13f9bf1",
   "metadata": {},
   "outputs": [],
   "source": [
    "import datetime\n",
    "# Using the current date\n",
    "current_date = datetime.datetime.now()\n",
    "create_date = current_date.strftime('c%Y%m%d')\n",
    "\n",
    "desc='OrigAB'\n",
    "\n",
    "\n",
    "ilev = (hyaiXX + hybiXX ) * 1_000. #* 100_000.\n",
    "lev  = (hyamXX + hybmXX ) * 1_000. #* 100_000.\n",
    "\n",
    "\n",
    "dims   = [\"lev\",\"ilev\"]\n",
    "coords = dict( \n",
    "    lev  = ( [\"lev\"],lev),\n",
    "    ilev = ( [\"ilev\"],ilev),\n",
    ")\n",
    "\n",
    "\n",
    "NewVgrid = xr.Dataset( coords=coords  )\n",
    "\n",
    "Dar = xr.DataArray( data=hyaiXX, dims=('ilev',),\n",
    "                    attrs=dict( description='interface hybrid eta coordinate A-coeff ',units='1',) ,) \n",
    "NewVgrid['hyai'] = Dar\n",
    "\n",
    "Dar = xr.DataArray( data=hybiXX, dims=('ilev',),\n",
    "                    attrs=dict( description='interface hybrid eta coordinate B-coeff ',units='1',) ,) \n",
    "NewVgrid['hybi'] = Dar\n",
    "\n",
    "Dar = xr.DataArray( data=hyamXX, dims=('lev',),\n",
    "                    attrs=dict( description='mid-level hybrid eta coordinate A-coeff ',units='1',) ,) \n",
    "NewVgrid['hyam'] = Dar\n",
    "\n",
    "Dar = xr.DataArray( data=hybmXX, dims=('lev',),\n",
    "                    attrs=dict( description='mid-level hybrid eta coordinate B-coeff ',units='1',) ,) \n",
    "NewVgrid['hybm'] = Dar\n",
    "\n",
    "newname = f'{myGridFiles}/Vertical/GRID_{str(nzXX)}L_CAM7_{desc}_{create_date}.nc'\n",
    "\n",
    "print(newname) "
   ]
  },
  {
   "cell_type": "code",
   "execution_count": null,
   "id": "7daed9fe-61fc-4d55-974b-0f7622d11936",
   "metadata": {},
   "outputs": [],
   "source": [
    "NewVgrid.to_netcdf( newname )"
   ]
  },
  {
   "cell_type": "code",
   "execution_count": null,
   "id": "7049f23d-40c3-4c9f-8302-547efc658733",
   "metadata": {},
   "outputs": [],
   "source": [
    "import copy\n",
    "L135new= copy.deepcopy( L135 )"
   ]
  },
  {
   "cell_type": "code",
   "execution_count": null,
   "id": "6cadde3e-1d21-4cc1-bc1d-20caec5085d5",
   "metadata": {},
   "outputs": [],
   "source": [
    "\n",
    "L135new['ilev']=NewVgrid['ilev']\n",
    "L135new['lev']=NewVgrid['lev']\n",
    "L135new['hyai']=NewVgrid['hyai']\n",
    "L135new['hybi']=NewVgrid['hybi']\n",
    "L135new['hyam']=NewVgrid['hyam']\n",
    "L135new['hybm']=NewVgrid['hybm']\n",
    "\n"
   ]
  },
  {
   "cell_type": "code",
   "execution_count": null,
   "id": "60c30660-0b5a-41e6-a3a3-f53cfbf42e62",
   "metadata": {},
   "outputs": [],
   "source": [
    "\n",
    "L135fnew = '/glade/work/juliob/f.e23.FWmaHIST.ne16pg3_mg17_L135_c240604_tag119fvitt_beres0.6.cam.i.2001-01-01-00000.nc'\n",
    "L135new.to_netcdf( L135fnew )"
   ]
  },
  {
   "cell_type": "code",
   "execution_count": null,
   "id": "b4c7fbe3-e294-444d-ba18-be42214210c1",
   "metadata": {},
   "outputs": [],
   "source": [
    "\n",
    "\n",
    "print( np.min( dzXX[40:70] ) )\n",
    "\n",
    "fig,ax=plt.subplots( 1,3, squeeze=False, figsize=(20,8)  )\n",
    "\n",
    "j,i=0,0\n",
    "psfc = 1_000.\n",
    "pXX_ev = 1_000. * hyaiXX   + psfc * hybiXX\n",
    "p93_ev = 1_000. * L93.hyai.values   + psfc * L93.hybi.values\n",
    "z93_ev = -7_000. * np.log( p93_ev/1_000. )\n",
    "zXX_ev = -7_000. * np.log( pXX_ev/1_000. )\n",
    "\n",
    "dz93 = -( z93_ev[1:94]-z93_ev[0:93]  )\n",
    "dzXX = -( zXX_ev[1:94]-zXX_ev[0:93] )\n",
    "\n",
    "ax[j,i].plot( dzXX , z93_ev[0:93]) #pXX_ev )\n",
    "ax[j,i].plot( dz93, zXX_ev[0:93] ,'--' ) # p93_ev )\n",
    "ax[j,i].set_ylim(0,40_000)\n",
    "ax[j,i].set_xlim(-300,3_000)\n",
    "ax[j,i].set_xlabel( '$\\Delta z$ (m)' , fontsize=20)\n",
    "ax[j,i].set_ylabel( '$z$ (m)' , fontsize=20)\n",
    "ax[j,i].set_title( 'Ocean - 1000 hPa ',fontsize=20)\n",
    "\n",
    "j,i=0,1\n",
    "psfc = 400.\n",
    "pXX_ev = 1_000. * hyaiXX   + psfc * hybiXX\n",
    "p93_ev = 1_000. * L93.hyai.values   + psfc * L93.hybi.values\n",
    "z93_ev = -7_000. * np.log( p93_ev/1_000. )\n",
    "zXX_ev = -7_000. * np.log( pXX_ev/1_000. )\n",
    "\n",
    "dz93 = -( z93_ev[1:94]-z93_ev[0:93]  )\n",
    "dzXX = -( zXX_ev[1:94]-zXX_ev[0:93] )\n",
    "\n",
    "ax[j,i].plot( dzXX , zXX_ev[0:93]) #pXX_ev )\n",
    "ax[j,i].plot( dz93, z93_ev[0:93] , '--') # p93_ev )\n",
    "ax[j,i].plot( [0,0] , [0,50_000] ,':' ) # p93_ev )\n",
    "ax[j,i].set_ylim(0,40_000)\n",
    "ax[j,i].set_xlim(-300,3_000)\n",
    "ax[j,i].set_xlabel( '$\\Delta z$ (m)' , fontsize=20)\n",
    "#ax[j,i].set_ylabel( '$z$ (m)' , fontsize=20)\n",
    "ax[j,i].set_title( '\"Everest/Chomolungma\" - 400 hPa ',fontsize=20)\n",
    "\n",
    "j,i=0,2\n",
    "psfc = 520.\n",
    "pXX_ev = 1_000. * hyaiXX   + psfc * hybiXX\n",
    "p93_ev = 1_000. * L93.hyai.values   + psfc * L93.hybi.values\n",
    "z93_ev = -7_000. * np.log( p93_ev/1_000. )\n",
    "zXX_ev = -7_000. * np.log( pXX_ev/1_000. )\n",
    "\n",
    "dz93 = -( z93_ev[1:94]-z93_ev[0:93]  )\n",
    "dzXX = -( zXX_ev[1:94]-zXX_ev[0:93] )\n",
    "\n",
    "ax[j,i].plot( dzXX, zXX_ev[0:93] ,label='New L93' ) # p93_ev )\n",
    "ax[j,i].plot( dz93 , z93_ev[0:93],'--',label='Current L93' ) #pXX_ev )\n",
    "ax[j,i].plot( [0,0] , [0,50_000] ,':' ) # p93_ev )\n",
    "ax[j,i].set_ylim(0,40_000)\n",
    "ax[j,i].set_xlim(-300,3_000)\n",
    "ax[j,i].set_xlabel( '$\\Delta z$ (m)' , fontsize=20)\n",
    "#ax[j,i].set_ylabel( '$z$ (m)' , fontsize=20)\n",
    "ax[j,i].set_title( 'Highest point at ne30 - 520 hPa ',fontsize=20)\n",
    "\n",
    "plt.legend()"
   ]
  },
  {
   "cell_type": "code",
   "execution_count": null,
   "id": "bbc22028-f124-43b9-bed1-aa17b357e3d2",
   "metadata": {},
   "outputs": [],
   "source": [
    "print(pXX[92])\n",
    "\n",
    "\n",
    "hooiii=-0.095  * pXX + 0.095 * pXX[92]\n",
    "\n",
    "print( hooiii[-40:])\n",
    "print( L93.hyai.values[-40:])\n",
    "print( L93.hyai.values[-40:]-hooiii[-40:] )\n",
    "\n"
   ]
  },
  {
   "cell_type": "code",
   "execution_count": null,
   "id": "e505f8d3-95fd-4e0b-bc9d-29c58f0f05af",
   "metadata": {},
   "outputs": [],
   "source": [
    "\n",
    "plt.plot(L58.hyai[-57:],'o')\n",
    "plt.plot(L93.hyai[-57:],'x')\n",
    "plt.plot(L93.hyai[-57:].values-L58.hyai[-57:].values)\n"
   ]
  },
  {
   "cell_type": "code",
   "execution_count": null,
   "id": "c188c709-02ec-4816-b266-6750ab1232e9",
   "metadata": {},
   "outputs": [],
   "source": [
    "fig,ax=plt.subplots(1, 2, squeeze=False) \n",
    "ax[0,0].plot( L58.hybi ,z58,'-o')\n",
    "ax[0,0].plot( L58.hyai ,z58)\n",
    "ax[0,0].plot( L32.hybi ,z32,'-x')\n",
    "ax[0,0].plot( L32.hyai ,z32)\n",
    "ax[0,0].plot( hyaiXX ,zXX)\n",
    "ax[0,0].plot( hybiXX ,zXX,'-+')\n",
    "\n",
    "ax[0,1].plot( dz58,zo58,'-o')\n",
    "ax[0,1].plot( dz32,zo32,'-x')\n",
    "ax[0,1].plot( dzXX,zoXX,'-+')\n"
   ]
  },
  {
   "cell_type": "code",
   "execution_count": null,
   "id": "f8f70f83-6a56-4103-a4ef-909aee8d5051",
   "metadata": {},
   "outputs": [],
   "source": [
    "print(newname)"
   ]
  },
  {
   "cell_type": "code",
   "execution_count": null,
   "id": "cb706938-baeb-4dd3-bf99-a9c3e5988635",
   "metadata": {},
   "outputs": [],
   "source": []
  }
 ],
 "metadata": {
  "kernelspec": {
   "display_name": "NPL 2023b",
   "language": "python",
   "name": "npl-2023b"
  },
  "language_info": {
   "codemirror_mode": {
    "name": "ipython",
    "version": 3
   },
   "file_extension": ".py",
   "mimetype": "text/x-python",
   "name": "python",
   "nbconvert_exporter": "python",
   "pygments_lexer": "ipython3",
   "version": "3.10.12"
  }
 },
 "nbformat": 4,
 "nbformat_minor": 5
}

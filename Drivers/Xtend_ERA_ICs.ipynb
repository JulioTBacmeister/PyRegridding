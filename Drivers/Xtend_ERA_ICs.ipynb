{
 "cells": [
  {
   "cell_type": "code",
   "execution_count": 1,
   "id": "127d0a30-6456-424b-ad04-25aeae62de67",
   "metadata": {},
   "outputs": [
    {
     "name": "stdout",
     "output_type": "stream",
     "text": [
      " a path added in VertRegridFlexLL /glade/work/juliob/PyRegridding/Regridder/../Utils \n",
      " MyConstants in /glade/work/juliob/PyRegridding/Utils \n",
      "Using Flexible parallel/serial VertRegrid \n",
      " a path added in VertRegridFlexLL /glade/work/juliob/PyRegridding/Regridder/../Utils \n",
      " MyConstants in /glade/work/juliob/PyRegridding/Utils \n",
      " MyConstants in /glade/work/juliob/PyRegridding/Utils \n",
      " a path added in GenRegrid /glade/work/juliob/PyRegridding/Regridder/../Utils \n",
      "Using Flexible parallel/serial VertRegrid \n",
      " a path added in VertRegridFlexLL /glade/work/juliob/PyRegridding/Regridder/../Utils \n",
      " MyConstants in /glade/work/juliob/PyRegridding/Utils \n",
      " a path added in var_A_x_B /glade/work/juliob/PyRegridding/Regridder/../Utils \n",
      "Using Flexible parallel/serial VertRegrid \n",
      " a path added in VertRegridFlexLL /glade/work/juliob/PyRegridding/Regridder/../Utils \n",
      " MyConstants in /glade/work/juliob/PyRegridding/Utils \n",
      " a path added in var_A_x_B /glade/work/juliob/PyRegridding/Regridder/../Utils \n",
      " a path added in GenRegrid /glade/work/juliob/PyRegridding/Regridder/../Utils \n",
      "Using Flexible parallel/serial VertRegrid \n",
      " a path added in VertRegridFlexLL /glade/work/juliob/PyRegridding/Regridder/../Utils \n",
      " MyConstants in /glade/work/juliob/PyRegridding/Utils \n",
      " MyConstants in /glade/work/juliob/PyRegridding/Utils \n"
     ]
    },
    {
     "data": {
      "text/plain": [
       "<module 'WriteDST' from '/glade/work/juliob/PyRegridding/Drivers/../Regridder/WriteDST.py'>"
      ]
     },
     "execution_count": 1,
     "metadata": {},
     "output_type": "execute_result"
    }
   ],
   "source": [
    "import sys\n",
    "\n",
    "import xarray as xr\n",
    "import numpy as np\n",
    "import matplotlib.pyplot as plt\n",
    "import pandas as pd\n",
    "\n",
    "import importlib\n",
    "from scipy.io import FortranFile\n",
    "\n",
    "import time \n",
    "import cftime \n",
    "\n",
    "import RegridField as RgF\n",
    "\n",
    "# import modules in other directories\n",
    "sys.path.append('../Utils/')\n",
    "import GridUtils as GrU\n",
    "import MakePressures as MkP\n",
    "import humiditycalcs as hum\n",
    "import MyConstants as Con\n",
    "\n",
    "sys.path.append('../Regridder/')\n",
    "import Initialize as Prep\n",
    "import ReadInSrc as RdSrc\n",
    "import WriteDST as WrDst\n",
    "import GenRegrid as GR\n",
    "import latlon_w_scrip as LL\n",
    "import var_A_x_B as AxB\n",
    "\n",
    "\n",
    "importlib.reload( RgF )\n",
    "importlib.reload( AxB )\n",
    "importlib.reload( LL )\n",
    "importlib.reload( GR )\n",
    "importlib.reload( Prep )\n",
    "importlib.reload( RdSrc )\n",
    "importlib.reload( WrDst )\n"
   ]
  },
  {
   "cell_type": "code",
   "execution_count": 10,
   "id": "51ce630f-d0e7-4017-87a6-c9b8172372f4",
   "metadata": {},
   "outputs": [
    {
     "name": "stdout",
     "output_type": "stream",
     "text": [
      "(1, 93, 48602)\n"
     ]
    }
   ],
   "source": [
    "##########################\n",
    "\n",
    "restF = '/glade/derecho/scratch/juliob/archive/c64_gwR2_ne30pg3_FMTHIST_topfix_oldCTL_qbotune_x03/rest/1997-01-01-00000/c64_gwR2_ne30pg3_FMTHIST_topfix_oldCTL_qbotune_x03.cam.i.1997-01-01-00000.nc'\n",
    "\n",
    "\n",
    "#restF= '/glade/campaign/cgd/amp/aherring/restart/inic/ne120/ERA5_x_ne120np4_L58_rgC2_WO.aero.2000-01-01-00000.nc'\n",
    "\n",
    "#restF ='/glade/derecho/scratch/juliob/archive/c64_gwR2_ne30pg3_FMTHIST_topfix_rdgres_x02/rest/1987-01-01-00000/c64_gwR2_ne30pg3_FMTHIST_topfix_rdgres_x02.cam.i.1987-01-01-00000.nc'\n",
    "RestX = xr.open_dataset(restF) \n",
    "\n",
    "#eraF  ='/glade/campaign/cgd/amp/juliob/ERA5/ne120np4/L32/ERA5_x_ne120np4_L32_rgC2_WO.2000-01-01-00000.nc'\n",
    "\n",
    "eraF  ='/glade/campaign/cgd/amp/juliob/ERA5/ne30np4/L93/ERA5_x_ne30np4_L93_rgC2_WO.2000-01-01-00000.nc'\n",
    "eraX  = xr.open_dataset(eraF) \n",
    "\n",
    "\n",
    "RestXvars = list(RestX.variables) \n",
    "eraXvars  = list(eraX.variables) \n",
    "\n",
    "so4_a1 = RestX.so4_a1.values\n",
    "so2    = RestX.SO2.values\n",
    "ps     = RestX.PS.values\n",
    "\n",
    "\n",
    "print( np.shape(so4_a1) )"
   ]
  },
  {
   "cell_type": "code",
   "execution_count": 3,
   "id": "f638c85d-83a5-40e7-be37-4636516a5750",
   "metadata": {},
   "outputs": [
    {
     "name": "stdout",
     "output_type": "stream",
     "text": [
      "True\n"
     ]
    }
   ],
   "source": [
    "print('lev' in RestX.SO2.dims)"
   ]
  },
  {
   "cell_type": "code",
   "execution_count": 11,
   "id": "75c46b23-5584-466d-a603-0405296b7031",
   "metadata": {},
   "outputs": [
    {
     "name": "stdout",
     "output_type": "stream",
     "text": [
      "Using Flexible parallel/serial VertRegrid \n",
      " a path added in VertRegridFlexLL /glade/work/juliob/PyRegridding/Regridder/../Utils \n",
      " MyConstants in /glade/work/juliob/PyRegridding/Utils \n",
      "CFC11 {'mdims': 1, 'units': 'kg/kg', 'mixing_ratio': 'dry', 'long_name': 'CFC11', 'cell_methods': 'time: point'} (1, 93, 48602)\n",
      "CFC12 {'mdims': 1, 'units': 'kg/kg', 'mixing_ratio': 'dry', 'long_name': 'CFC12', 'cell_methods': 'time: point'} (1, 93, 48602)\n",
      "CH4 {'mdims': 1, 'units': 'kg/kg', 'mixing_ratio': 'dry', 'long_name': 'CH4', 'cell_methods': 'time: point'} (1, 93, 48602)\n",
      "CLDICE {'mdims': 1, 'units': 'kg/kg', 'mixing_ratio': 'wet', 'long_name': 'Grid box averaged cloud ice amount', 'cell_methods': 'time: point'} (1, 93, 48602)\n",
      "CLDLIQ {'mdims': 1, 'units': 'kg/kg', 'mixing_ratio': 'wet', 'long_name': 'Grid box averaged cloud liquid amount', 'cell_methods': 'time: point'} (1, 93, 48602)\n",
      "CO2 {'mdims': 1, 'units': 'kg/kg', 'mixing_ratio': 'dry', 'long_name': 'CO2', 'cell_methods': 'time: point'} (1, 93, 48602)\n",
      "DMS {'mdims': 1, 'units': 'kg/kg', 'mixing_ratio': 'dry', 'long_name': 'DMS', 'cell_methods': 'time: point'} (1, 93, 48602)\n",
      "GRAUQM {'mdims': 1, 'units': 'kg/kg', 'mixing_ratio': 'wet', 'long_name': 'Grid box averaged graupel/hail amount', 'cell_methods': 'time: point'} (1, 93, 48602)\n",
      "H2O2 {'mdims': 1, 'units': 'kg/kg', 'mixing_ratio': 'dry', 'long_name': 'H2O2', 'cell_methods': 'time: point'} (1, 93, 48602)\n",
      "H2SO4 {'mdims': 1, 'units': 'kg/kg', 'mixing_ratio': 'dry', 'long_name': 'H2SO4', 'cell_methods': 'time: point'} (1, 93, 48602)\n",
      "N2O {'mdims': 1, 'units': 'kg/kg', 'mixing_ratio': 'dry', 'long_name': 'N2O', 'cell_methods': 'time: point'} (1, 93, 48602)\n",
      "NUMGRA {'mdims': 1, 'units': 'kg/kg', 'mixing_ratio': 'wet', 'long_name': 'Grid box averaged graupel/hail number', 'cell_methods': 'time: point'} (1, 93, 48602)\n",
      "NUMICE {'mdims': 1, 'units': 'kg/kg', 'mixing_ratio': 'wet', 'long_name': 'Grid box averaged cloud ice number', 'cell_methods': 'time: point'} (1, 93, 48602)\n",
      "NUMLIQ {'mdims': 1, 'units': 'kg/kg', 'mixing_ratio': 'wet', 'long_name': 'Grid box averaged cloud liquid number', 'cell_methods': 'time: point'} (1, 93, 48602)\n",
      "NUMRAI {'mdims': 1, 'units': 'kg/kg', 'mixing_ratio': 'wet', 'long_name': 'Grid box averaged rain number', 'cell_methods': 'time: point'} (1, 93, 48602)\n",
      "NUMSNO {'mdims': 1, 'units': 'kg/kg', 'mixing_ratio': 'wet', 'long_name': 'Grid box averaged snow number', 'cell_methods': 'time: point'} (1, 93, 48602)\n",
      "RAINQM {'mdims': 1, 'units': 'kg/kg', 'mixing_ratio': 'wet', 'long_name': 'Grid box averaged rain amount', 'cell_methods': 'time: point'} (1, 93, 48602)\n",
      "SNOWQM {'mdims': 1, 'units': 'kg/kg', 'mixing_ratio': 'wet', 'long_name': 'Grid box averaged snow amount', 'cell_methods': 'time: point'} (1, 93, 48602)\n",
      "SO2 {'mdims': 1, 'units': 'kg/kg', 'mixing_ratio': 'dry', 'long_name': 'SO2', 'cell_methods': 'time: point'} (1, 93, 48602)\n",
      "SOAE {'mdims': 1, 'units': 'kg/kg', 'mixing_ratio': 'dry', 'long_name': 'SOAE', 'cell_methods': 'time: point'} (1, 93, 48602)\n",
      "SOAG {'mdims': 1, 'units': 'kg/kg', 'mixing_ratio': 'dry', 'long_name': 'SOAG', 'cell_methods': 'time: point'} (1, 93, 48602)\n",
      "bc_a1 {'mdims': 1, 'units': 'kg/kg', 'mixing_ratio': 'dry', 'long_name': 'bc_a1', 'cell_methods': 'time: point'} (1, 93, 48602)\n",
      "bc_a4 {'mdims': 1, 'units': 'kg/kg', 'mixing_ratio': 'dry', 'long_name': 'bc_a4', 'cell_methods': 'time: point'} (1, 93, 48602)\n",
      "dst_a1 {'mdims': 1, 'units': 'kg/kg', 'mixing_ratio': 'dry', 'long_name': 'dst_a1', 'cell_methods': 'time: point'} (1, 93, 48602)\n",
      "dst_a2 {'mdims': 1, 'units': 'kg/kg', 'mixing_ratio': 'dry', 'long_name': 'dst_a2', 'cell_methods': 'time: point'} (1, 93, 48602)\n",
      "dst_a3 {'mdims': 1, 'units': 'kg/kg', 'mixing_ratio': 'dry', 'long_name': 'dst_a3', 'cell_methods': 'time: point'} (1, 93, 48602)\n",
      "ncl_a1 {'mdims': 1, 'units': 'kg/kg', 'mixing_ratio': 'dry', 'long_name': 'ncl_a1', 'cell_methods': 'time: point'} (1, 93, 48602)\n",
      "ncl_a2 {'mdims': 1, 'units': 'kg/kg', 'mixing_ratio': 'dry', 'long_name': 'ncl_a2', 'cell_methods': 'time: point'} (1, 93, 48602)\n",
      "ncl_a3 {'mdims': 1, 'units': 'kg/kg', 'mixing_ratio': 'dry', 'long_name': 'ncl_a3', 'cell_methods': 'time: point'} (1, 93, 48602)\n",
      "num_a1 {'mdims': 1, 'units': 'kg/kg', 'mixing_ratio': 'dry', 'long_name': 'num_a1', 'cell_methods': 'time: point'} (1, 93, 48602)\n",
      "num_a2 {'mdims': 1, 'units': 'kg/kg', 'mixing_ratio': 'dry', 'long_name': 'num_a2', 'cell_methods': 'time: point'} (1, 93, 48602)\n",
      "num_a3 {'mdims': 1, 'units': 'kg/kg', 'mixing_ratio': 'dry', 'long_name': 'num_a3', 'cell_methods': 'time: point'} (1, 93, 48602)\n",
      "num_a4 {'mdims': 1, 'units': 'kg/kg', 'mixing_ratio': 'dry', 'long_name': 'num_a4', 'cell_methods': 'time: point'} (1, 93, 48602)\n",
      "pom_a1 {'mdims': 1, 'units': 'kg/kg', 'mixing_ratio': 'dry', 'long_name': 'pom_a1', 'cell_methods': 'time: point'} (1, 93, 48602)\n",
      "pom_a4 {'mdims': 1, 'units': 'kg/kg', 'mixing_ratio': 'dry', 'long_name': 'pom_a4', 'cell_methods': 'time: point'} (1, 93, 48602)\n",
      "so4_a1 {'mdims': 1, 'units': 'kg/kg', 'mixing_ratio': 'dry', 'long_name': 'so4_a1', 'cell_methods': 'time: point'} (1, 93, 48602)\n",
      "so4_a2 {'mdims': 1, 'units': 'kg/kg', 'mixing_ratio': 'dry', 'long_name': 'so4_a2', 'cell_methods': 'time: point'} (1, 93, 48602)\n",
      "so4_a3 {'mdims': 1, 'units': 'kg/kg', 'mixing_ratio': 'dry', 'long_name': 'so4_a3', 'cell_methods': 'time: point'} (1, 93, 48602)\n",
      "soa_a1 {'mdims': 1, 'units': 'kg/kg', 'mixing_ratio': 'dry', 'long_name': 'soa_a1', 'cell_methods': 'time: point'} (1, 93, 48602)\n",
      "soa_a2 {'mdims': 1, 'units': 'kg/kg', 'mixing_ratio': 'dry', 'long_name': 'soa_a2', 'cell_methods': 'time: point'} (1, 93, 48602)\n"
     ]
    }
   ],
   "source": [
    "import RegridField as RgF\n",
    "import copy\n",
    "importlib.reload( RgF )\n",
    "\n",
    "eraX_xtnd = copy.deepcopy( eraX )\n",
    "ps     = eraX.PS.values\n",
    "\n",
    "for fld in RestXvars:\n",
    "    Q1 = (('lev' in RestX[fld].dims) or ('ilev' in RestX[fld].dims) )\n",
    "    Q2 = (fld not in eraXvars )\n",
    "    #print( fld, Q1, Q2 )\n",
    "    if ( (Q1==True ) and ( Q2==True) ):\n",
    "        #print( fld, RestX[fld].dims )\n",
    "        aa = RestX[fld].values\n",
    "        aa_z = aa #RgF.Vert(DstVgrid='L58', DstTZHkey='tzc', SrcVgrid='L93', xfld_Src=aa, ps_Src=ps )\n",
    "        print( fld, RestX[fld].attrs , np.shape(aa_z) )\n",
    "\n",
    "        \n",
    "        Dar = xr.DataArray( data=aa_z, \n",
    "                            dims=('time','lev','ncol',),\n",
    "                            attrs=RestX[fld].attrs ,)\n",
    "        \n",
    "        eraX_xtnd[fld] = Dar\n",
    "                \n"
   ]
  },
  {
   "cell_type": "code",
   "execution_count": 12,
   "id": "6a95d595-3122-4eec-8907-ade76f8ccd9b",
   "metadata": {},
   "outputs": [
    {
     "name": "stdout",
     "output_type": "stream",
     "text": [
      "/glade/campaign/cgd/amp/juliob/ERA5/ne30np4/L93/ERA5_x_ne30np4_L93_rgC2_WO_aero.2000-01-01-00000.nc\n"
     ]
    }
   ],
   "source": [
    "# Make destination file name by replacing '_WO.'\n",
    "\n",
    "#eraF  ='/glade/campaign/cgd/amp/juliob/ERA5/ne30np4/L32/ERA5_x_ne30np4_L32_rgC2_WO.2000-01-01-00000.nc'\n",
    "\n",
    "eraF_xtnd = eraF.replace('_WO.', '_WO_aero.' )\n",
    "print(eraF_xtnd)\n",
    "eraX_xtnd.to_netcdf(  eraF_xtnd )"
   ]
  },
  {
   "cell_type": "code",
   "execution_count": null,
   "id": "0adc3e04-6d28-4dd0-aea2-6d3565db14a2",
   "metadata": {},
   "outputs": [],
   "source": [
    "eraX_xtnd"
   ]
  },
  {
   "cell_type": "code",
   "execution_count": null,
   "id": "21769ca5-c586-4c94-9b6d-64f5d4a061e9",
   "metadata": {},
   "outputs": [],
   "source": [
    "print(so2x.shape)\n",
    "print(so2.shape)\n",
    "print(pmid_Dst.shape)"
   ]
  },
  {
   "cell_type": "code",
   "execution_count": null,
   "id": "5d6e0772-85cd-4fa5-999e-72382d962788",
   "metadata": {},
   "outputs": [],
   "source": [
    "print( pmid_Dst[0,-5:,20000] )\n",
    "print( pmid_Src[0,-5:,20000] )\n",
    "print( ps[0,20000] )\n"
   ]
  },
  {
   "cell_type": "code",
   "execution_count": null,
   "id": "d95113be-1918-40e0-8692-7a896210a632",
   "metadata": {},
   "outputs": [],
   "source": [
    "#plt.plot( pmid_Src[0,92,:] )\n",
    "plt.plot( pmid_Dst[0,57,:] - pmid_Src[0,92,:] )\n"
   ]
  },
  {
   "cell_type": "code",
   "execution_count": null,
   "id": "aab0a425-b4a9-4dd5-bcab-fc177e1316ca",
   "metadata": {},
   "outputs": [],
   "source": [
    "plt.plot( so2x[0,:,20000],pmid_Dst[0,:,20000],'o' )\n",
    "plt.plot( so2[0,:,20000],pmid_Src[0,:,20000],'x' )\n"
   ]
  },
  {
   "cell_type": "code",
   "execution_count": null,
   "id": "e2ff10af-2efa-4bf0-82b6-266b2ea12ad9",
   "metadata": {},
   "outputs": [],
   "source": [
    "#Dst='ne240np4'\n",
    "Dst='fv1x1'\n",
    "Src='ne30np4'\n",
    "\n",
    "DstInfo = GrU.gridInfo(Dst) #,Vgrid=DstVgrid)\n",
    "dstHkey = DstInfo['Hkey']\n",
    "dst_type =DstInfo['type']\n",
    "dst_scrip =DstInfo['scrip']\n",
    "\n",
    "SrcInfo = GrU.gridInfo(Src)\n",
    "srcHkey = SrcInfo['Hkey']\n",
    "src_type =SrcInfo['type']\n",
    "src_scrip =SrcInfo['scrip']\n",
    "\n"
   ]
  },
  {
   "cell_type": "code",
   "execution_count": null,
   "id": "a5354445-2b40-4637-a79c-f2df17bb9cb3",
   "metadata": {},
   "outputs": [],
   "source": [
    "%%time\n",
    "roog = HRF.regrid(Src=Src, Dst=Dst )"
   ]
  },
  {
   "cell_type": "code",
   "execution_count": null,
   "id": "ca5672f8-3581-47db-bc41-16ec7385612f",
   "metadata": {},
   "outputs": [],
   "source": [
    "%%time\n",
    "soo=HRF.regrid(xfld_Src=so4_a1, Src=Src, Dst=Dst )"
   ]
  },
  {
   "cell_type": "code",
   "execution_count": null,
   "id": "d5801a1f-1bf0-4f8d-aca9-66847c3112b6",
   "metadata": {},
   "outputs": [],
   "source": [
    "%%time\n",
    "soo2=HRF.regrid(xfld_Src=so4_a1, Src=Src, Dst=Dst, RegridObj_In=roog )"
   ]
  },
  {
   "cell_type": "code",
   "execution_count": null,
   "id": "c7147a39-24dc-49f5-8926-38bdaf87d701",
   "metadata": {},
   "outputs": [],
   "source": [
    "\n",
    "lat_Dst,lon_Dst = GrU.latlon( scrip=dst_scrip, Hkey=dstHkey )\n",
    "lat_Src,lon_Src = GrU.latlon( scrip=src_scrip, Hkey=srcHkey )\n"
   ]
  },
  {
   "cell_type": "code",
   "execution_count": null,
   "id": "4df29e94-5924-43b3-a028-70b499545eaa",
   "metadata": {},
   "outputs": [],
   "source": [
    "cles = 1.e-9*np.linspace(0,10,21)\n",
    "plt.tricontourf(lon_Src,lat_Src,so4_a1[0,80,:] ,levels=cles )\n",
    "plt.colorbar()"
   ]
  },
  {
   "cell_type": "code",
   "execution_count": null,
   "id": "38a25934-0801-42eb-a240-55fb612c5f2b",
   "metadata": {},
   "outputs": [],
   "source": [
    "#plt.tricontourf(lon_Dst,lat_Dst,soo2[0,80,:] ,levels=cles )\n",
    "plt.contourf(lon_Dst,lat_Dst,soo2[0,80,:] ,levels=cles )\n",
    "plt.colorbar()"
   ]
  },
  {
   "cell_type": "code",
   "execution_count": null,
   "id": "d8a94973-f43a-48de-850a-9252384fe345",
   "metadata": {},
   "outputs": [],
   "source": [
    "shap='tc' #'tzyx'\n",
    "print(shap[-2:])"
   ]
  },
  {
   "cell_type": "code",
   "execution_count": null,
   "id": "51a4d0f1-10cd-4421-9e65-eee9e046e6a1",
   "metadata": {},
   "outputs": [],
   "source": [
    "print( len(xoo) )"
   ]
  },
  {
   "cell_type": "code",
   "execution_count": null,
   "id": "69099a38-521b-4102-8f76-385eae066460",
   "metadata": {},
   "outputs": [],
   "source": [
    "yoo=None\n",
    "print( xoo is None)"
   ]
  },
  {
   "cell_type": "code",
   "execution_count": null,
   "id": "4b031cfe-2ff4-49b7-83f7-c3b4ef4d58cf",
   "metadata": {},
   "outputs": [],
   "source": []
  }
 ],
 "metadata": {
  "kernelspec": {
   "display_name": "NPL 2023b",
   "language": "python",
   "name": "npl-2023b"
  },
  "language_info": {
   "codemirror_mode": {
    "name": "ipython",
    "version": 3
   },
   "file_extension": ".py",
   "mimetype": "text/x-python",
   "name": "python",
   "nbconvert_exporter": "python",
   "pygments_lexer": "ipython3",
   "version": "3.10.12"
  }
 },
 "nbformat": 4,
 "nbformat_minor": 5
}

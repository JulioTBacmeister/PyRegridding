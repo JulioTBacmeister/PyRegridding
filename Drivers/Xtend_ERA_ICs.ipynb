{
 "cells": [
  {
   "cell_type": "code",
   "execution_count": 1,
   "id": "127d0a30-6456-424b-ad04-25aeae62de67",
   "metadata": {},
   "outputs": [
    {
     "name": "stdout",
     "output_type": "stream",
     "text": [
      " a path added in VertRegridFlexLL /glade/work/juliob/PyRegridding/Regridder/../Utils \n",
      " MyConstants in /glade/work/juliob/PyRegridding/Utils \n",
      "Using Flexible parallel/serial VertRegrid \n",
      " a path added in VertRegridFlexLL /glade/work/juliob/PyRegridding/Regridder/../Utils \n",
      " MyConstants in /glade/work/juliob/PyRegridding/Utils \n",
      " MyConstants in /glade/work/juliob/PyRegridding/Utils \n",
      " a path added in GenRegrid /glade/work/juliob/PyRegridding/Regridder/../Utils \n",
      "Using Flexible parallel/serial VertRegrid \n",
      " a path added in VertRegridFlexLL /glade/work/juliob/PyRegridding/Regridder/../Utils \n",
      " MyConstants in /glade/work/juliob/PyRegridding/Utils \n",
      " a path added in var_A_x_B /glade/work/juliob/PyRegridding/Regridder/../Utils \n",
      "Using Flexible parallel/serial VertRegrid \n",
      " a path added in VertRegridFlexLL /glade/work/juliob/PyRegridding/Regridder/../Utils \n",
      " MyConstants in /glade/work/juliob/PyRegridding/Utils \n",
      " a path added in var_A_x_B /glade/work/juliob/PyRegridding/Regridder/../Utils \n",
      " a path added in GenRegrid /glade/work/juliob/PyRegridding/Regridder/../Utils \n",
      "Using Flexible parallel/serial VertRegrid \n",
      " a path added in VertRegridFlexLL /glade/work/juliob/PyRegridding/Regridder/../Utils \n",
      " MyConstants in /glade/work/juliob/PyRegridding/Utils \n",
      " MyConstants in /glade/work/juliob/PyRegridding/Utils \n"
     ]
    },
    {
     "data": {
      "text/plain": [
       "<module 'WriteDST' from '/glade/work/juliob/PyRegridding/Drivers/../Regridder/WriteDST.py'>"
      ]
     },
     "execution_count": 1,
     "metadata": {},
     "output_type": "execute_result"
    }
   ],
   "source": [
    "import sys\n",
    "\n",
    "import xarray as xr\n",
    "import numpy as np\n",
    "import matplotlib.pyplot as plt\n",
    "import pandas as pd\n",
    "\n",
    "import importlib\n",
    "from scipy.io import FortranFile\n",
    "\n",
    "import time \n",
    "import cftime \n",
    "\n",
    "import RegridField as RgF\n",
    "\n",
    "# import modules in other directories\n",
    "sys.path.append('../Utils/')\n",
    "import GridUtils as GrU\n",
    "import MakePressures as MkP\n",
    "import humiditycalcs as hum\n",
    "import MyConstants as Con\n",
    "\n",
    "sys.path.append('../Regridder/')\n",
    "import Initialize as Prep\n",
    "import ReadInSrc as RdSrc\n",
    "import WriteDST as WrDst\n",
    "import GenRegrid as GR\n",
    "import latlon_w_scrip as LL\n",
    "import var_A_x_B as AxB\n",
    "\n",
    "\n",
    "importlib.reload( RgF )\n",
    "importlib.reload( AxB )\n",
    "importlib.reload( LL )\n",
    "importlib.reload( GR )\n",
    "importlib.reload( Prep )\n",
    "importlib.reload( RdSrc )\n",
    "importlib.reload( WrDst )\n"
   ]
  },
  {
   "cell_type": "code",
   "execution_count": 2,
   "id": "3351f90b-a4d7-48f1-9f02-dc0fc0cff8ca",
   "metadata": {},
   "outputs": [],
   "source": [
    "def vertical_extend(IC):\n",
    "\n",
    "    lev_a=IC.lev.values\n",
    "    zlev_a=-7.0*np.log( lev_a/1_000. )\n",
    "\n",
    "    Believe_upto = 90.\n",
    "    if not np.any(zlev_a >= Believe_upto):\n",
    "        print(f\"No model levels are above {Believe_upto}km, don'f do anything\")\n",
    "        return IC\n",
    "    else:\n",
    "        index = np.argmin(zlev_a >= Believe_upto)\n",
    "        print(f\"Index found for {Believe_upto}km: L={index} ,Z at index: Z_90={zlev_a[index-1]}\")\n",
    "    \n",
    "    UU = IC.U.values.squeeze() \n",
    "    VV = IC.V.values.squeeze() \n",
    "    TT = IC.T.values.squeeze() \n",
    "    QQ = IC.Q.values.squeeze() \n",
    "\n",
    "    nz , ncol = np.shape(UU)\n",
    "\n",
    "    for l in np.arange(start=0,stop=index):\n",
    "        UU[l,:] = UU[index,:]\n",
    "        VV[l,:] = VV[index,:]\n",
    "        QQ[l,:] = QQ[index,:]\n",
    "        TT[l,:] = TT[index,:]\n",
    "\n",
    "    IC.U.values = UU.reshape( 1, nz, ncol )\n",
    "    IC.V.values = VV.reshape( 1, nz, ncol )\n",
    "    IC.T.values = TT.reshape( 1, nz, ncol )\n",
    "    IC.Q.values = QQ.reshape( 1, nz, ncol )\n",
    "\n",
    "    return IC\n"
   ]
  },
  {
   "cell_type": "code",
   "execution_count": 3,
   "id": "51ce630f-d0e7-4017-87a6-c9b8172372f4",
   "metadata": {},
   "outputs": [
    {
     "name": "stdout",
     "output_type": "stream",
     "text": [
      "(1, 135, 48602)\n"
     ]
    }
   ],
   "source": [
    "##########################\n",
    "\n",
    "#restF = '/glade/derecho/scratch/juliob/archive/c64_gwR2_ne30pg3_FMTHIST_topfix_oldCTL_qbotune_x03/rest/1997-01-01-00000/c64_gwR2_ne30pg3_FMTHIST_topfix_oldCTL_qbotune_x03.cam.i.1997-01-01-00000.nc'\n",
    "\n",
    "restF = '/glade/derecho/scratch/juliob/atmos_IC_files/FWscHIST_ne30pg3_cam7phys_t01_L135start1985.cam.i.2005-01-01-00000.nc'\n",
    "\n",
    "\n",
    "#restF= '/glade/campaign/cgd/amp/aherring/restart/inic/ne120/ERA5_x_ne120np4_L58_rgC2_WO.aero.2000-01-01-00000.nc'\n",
    "#restF ='/glade/derecho/scratch/juliob/archive/c64_gwR2_ne30pg3_FMTHIST_topfix_rdgres_x02/rest/1987-01-01-00000/c64_gwR2_ne30pg3_FMTHIST_topfix_rdgres_x02.cam.i.1987-01-01-00000.nc'\n",
    "\n",
    "RestX = xr.open_dataset(restF) \n",
    "\n",
    "#eraF  ='/glade/campaign/cgd/amp/juliob/ERA5/ne120np4/L32/ERA5_x_ne120np4_L32_rgC2_WO.2000-01-01-00000.nc'\n",
    "\n",
    "eraF  ='/glade/campaign/cgd/amp/juliob/ERA5/ne30np4/L135/ERA5_x_ne30np4_L135_rgC2_WO.1985-01-01-00000.nc'\n",
    "#eraF  ='/glade/campaign/cgd/amp/juliob/ERA5/ne30np4/L93/ERA5_x_ne30np4_L93_rgC2_WO.1985-01-01-00000.nc'\n",
    "eraX  = xr.open_dataset(eraF) \n",
    "\n",
    "\n",
    "RestXvars = list(RestX.variables) \n",
    "eraXvars  = list(eraX.variables) \n",
    "\n",
    "so4_a1 = RestX.so4_a1.values\n",
    "so2    = RestX.SO2.values\n",
    "ps     = RestX.PS.values\n",
    "\n",
    "\n",
    "print( np.shape(so4_a1) )"
   ]
  },
  {
   "cell_type": "code",
   "execution_count": 4,
   "id": "38afd5e8-40ea-45da-bec6-2694ed0cd13e",
   "metadata": {},
   "outputs": [],
   "source": [
    "import copy\n",
    "eraX_copy = copy.deepcopy( eraX )\n"
   ]
  },
  {
   "cell_type": "code",
   "execution_count": 5,
   "id": "a3f3ba06-9e03-451e-9212-333df73384ea",
   "metadata": {},
   "outputs": [
    {
     "name": "stdout",
     "output_type": "stream",
     "text": [
      "Index found for 90.0km: L=13 ,Z at index: Z_90=90.71273258483166\n"
     ]
    }
   ],
   "source": [
    "eraX = vertical_extend(eraX)\n"
   ]
  },
  {
   "cell_type": "code",
   "execution_count": 6,
   "id": "fd133fe8-bc9f-41d4-9b42-8677f6a590d9",
   "metadata": {},
   "outputs": [
    {
     "data": {
      "text/plain": [
       "[<matplotlib.lines.Line2D at 0x152f1174d480>]"
      ]
     },
     "execution_count": 6,
     "metadata": {},
     "output_type": "execute_result"
    },
    {
     "data": {
      "image/png": "[encoded data removed]",
      "text/plain": [
       "<Figure size 640x480 with 1 Axes>"
      ]
     },
     "metadata": {},
     "output_type": "display_data"
    }
   ],
   "source": [
    "lev_a=eraX.lev.values\n",
    "zlev_a=-7.0*np.log( lev_a/1_000. )\n",
    "plt.plot( eraX_copy.U[0,:,20_000],zlev_a)\n",
    "plt.plot( eraX.U[0,:,20_000],zlev_a)\n"
   ]
  },
  {
   "cell_type": "code",
   "execution_count": 7,
   "id": "f638c85d-83a5-40e7-be37-4636516a5750",
   "metadata": {},
   "outputs": [
    {
     "name": "stdout",
     "output_type": "stream",
     "text": [
      "True\n"
     ]
    }
   ],
   "source": [
    "print('lev' in RestX.SO2.dims)"
   ]
  },
  {
   "cell_type": "code",
   "execution_count": 8,
   "id": "75c46b23-5584-466d-a603-0405296b7031",
   "metadata": {},
   "outputs": [
    {
     "name": "stdout",
     "output_type": "stream",
     "text": [
      "Using Flexible parallel/serial VertRegrid \n",
      " a path added in VertRegridFlexLL /glade/work/juliob/PyRegridding/Regridder/../Utils \n",
      " MyConstants in /glade/work/juliob/PyRegridding/Utils \n",
      " No need to interpolate in the vertical \n",
      "AOA1 {'mdims': 1, 'units': 'kg/kg', 'mixing_ratio': 'wet', 'long_name': 'Age-of_air tracer 1', 'cell_methods': 'time: point'} (1, 135, 48602)\n",
      " No need to interpolate in the vertical \n",
      "AOA2 {'mdims': 1, 'units': 'kg/kg', 'mixing_ratio': 'wet', 'long_name': 'Age-of_air tracer 2', 'cell_methods': 'time: point'} (1, 135, 48602)\n",
      " No need to interpolate in the vertical \n",
      "CFC11 {'mdims': 1, 'units': 'kg/kg', 'mixing_ratio': 'dry', 'long_name': 'CFC11', 'cell_methods': 'time: point'} (1, 135, 48602)\n",
      " No need to interpolate in the vertical \n",
      "CFC12 {'mdims': 1, 'units': 'kg/kg', 'mixing_ratio': 'dry', 'long_name': 'CFC12', 'cell_methods': 'time: point'} (1, 135, 48602)\n",
      " No need to interpolate in the vertical \n",
      "CH4 {'mdims': 1, 'units': 'kg/kg', 'mixing_ratio': 'dry', 'long_name': 'CH4', 'cell_methods': 'time: point'} (1, 135, 48602)\n",
      " No need to interpolate in the vertical \n",
      "CLDICE {'mdims': 1, 'units': 'kg/kg', 'mixing_ratio': 'wet', 'long_name': 'Grid box averaged cloud ice amount', 'cell_methods': 'time: point'} (1, 135, 48602)\n",
      " No need to interpolate in the vertical \n",
      "CLDLIQ {'mdims': 1, 'units': 'kg/kg', 'mixing_ratio': 'wet', 'long_name': 'Grid box averaged cloud liquid amount', 'cell_methods': 'time: point'} (1, 135, 48602)\n",
      " No need to interpolate in the vertical \n",
      "DMS {'mdims': 1, 'units': 'kg/kg', 'mixing_ratio': 'dry', 'long_name': 'DMS', 'cell_methods': 'time: point'} (1, 135, 48602)\n",
      " No need to interpolate in the vertical \n",
      "GRAUQM {'mdims': 1, 'units': 'kg/kg', 'mixing_ratio': 'wet', 'long_name': 'Grid box averaged graupel/hail amount', 'cell_methods': 'time: point'} (1, 135, 48602)\n",
      " No need to interpolate in the vertical \n",
      "H2O2 {'mdims': 1, 'units': 'kg/kg', 'mixing_ratio': 'dry', 'long_name': 'H2O2', 'cell_methods': 'time: point'} (1, 135, 48602)\n",
      " No need to interpolate in the vertical \n",
      "H2SO4 {'mdims': 1, 'units': 'kg/kg', 'mixing_ratio': 'dry', 'long_name': 'H2SO4', 'cell_methods': 'time: point'} (1, 135, 48602)\n",
      " No need to interpolate in the vertical \n",
      "HORZ {'mdims': 1, 'units': 'kg/kg', 'mixing_ratio': 'wet', 'long_name': 'horizontal tracer', 'cell_methods': 'time: point'} (1, 135, 48602)\n",
      " No need to interpolate in the vertical \n",
      "N2O {'mdims': 1, 'units': 'kg/kg', 'mixing_ratio': 'dry', 'long_name': 'N2O', 'cell_methods': 'time: point'} (1, 135, 48602)\n",
      " No need to interpolate in the vertical \n",
      "NUMGRA {'mdims': 1, 'units': 'kg/kg', 'mixing_ratio': 'wet', 'long_name': 'Grid box averaged graupel/hail number', 'cell_methods': 'time: point'} (1, 135, 48602)\n",
      " No need to interpolate in the vertical \n",
      "NUMICE {'mdims': 1, 'units': 'kg/kg', 'mixing_ratio': 'wet', 'long_name': 'Grid box averaged cloud ice number', 'cell_methods': 'time: point'} (1, 135, 48602)\n",
      " No need to interpolate in the vertical \n",
      "NUMLIQ {'mdims': 1, 'units': 'kg/kg', 'mixing_ratio': 'wet', 'long_name': 'Grid box averaged cloud liquid number', 'cell_methods': 'time: point'} (1, 135, 48602)\n",
      " No need to interpolate in the vertical \n",
      "NUMRAI {'mdims': 1, 'units': 'kg/kg', 'mixing_ratio': 'wet', 'long_name': 'Grid box averaged rain number', 'cell_methods': 'time: point'} (1, 135, 48602)\n",
      " No need to interpolate in the vertical \n",
      "NUMSNO {'mdims': 1, 'units': 'kg/kg', 'mixing_ratio': 'wet', 'long_name': 'Grid box averaged snow number', 'cell_methods': 'time: point'} (1, 135, 48602)\n",
      " No need to interpolate in the vertical \n",
      "RAINQM {'mdims': 1, 'units': 'kg/kg', 'mixing_ratio': 'wet', 'long_name': 'Grid box averaged rain amount', 'cell_methods': 'time: point'} (1, 135, 48602)\n",
      " No need to interpolate in the vertical \n",
      "SNOWQM {'mdims': 1, 'units': 'kg/kg', 'mixing_ratio': 'wet', 'long_name': 'Grid box averaged snow amount', 'cell_methods': 'time: point'} (1, 135, 48602)\n",
      " No need to interpolate in the vertical \n",
      "SO2 {'mdims': 1, 'units': 'kg/kg', 'mixing_ratio': 'dry', 'long_name': 'SO2', 'cell_methods': 'time: point'} (1, 135, 48602)\n",
      " No need to interpolate in the vertical \n",
      "SOAE {'mdims': 1, 'units': 'kg/kg', 'mixing_ratio': 'dry', 'long_name': 'SOAE', 'cell_methods': 'time: point'} (1, 135, 48602)\n",
      " No need to interpolate in the vertical \n",
      "SOAG {'mdims': 1, 'units': 'kg/kg', 'mixing_ratio': 'dry', 'long_name': 'SOAG', 'cell_methods': 'time: point'} (1, 135, 48602)\n",
      " No need to interpolate in the vertical \n",
      "VERT {'mdims': 1, 'units': 'kg/kg', 'mixing_ratio': 'wet', 'long_name': 'vertical tracer', 'cell_methods': 'time: point'} (1, 135, 48602)\n",
      " No need to interpolate in the vertical \n",
      "bc_a1 {'mdims': 1, 'units': 'kg/kg', 'mixing_ratio': 'dry', 'long_name': 'bc_a1', 'cell_methods': 'time: point'} (1, 135, 48602)\n",
      " No need to interpolate in the vertical \n",
      "bc_a4 {'mdims': 1, 'units': 'kg/kg', 'mixing_ratio': 'dry', 'long_name': 'bc_a4', 'cell_methods': 'time: point'} (1, 135, 48602)\n",
      " No need to interpolate in the vertical \n",
      "dst_a1 {'mdims': 1, 'units': 'kg/kg', 'mixing_ratio': 'dry', 'long_name': 'dst_a1', 'cell_methods': 'time: point'} (1, 135, 48602)\n",
      " No need to interpolate in the vertical \n",
      "dst_a2 {'mdims': 1, 'units': 'kg/kg', 'mixing_ratio': 'dry', 'long_name': 'dst_a2', 'cell_methods': 'time: point'} (1, 135, 48602)\n",
      " No need to interpolate in the vertical \n",
      "dst_a3 {'mdims': 1, 'units': 'kg/kg', 'mixing_ratio': 'dry', 'long_name': 'dst_a3', 'cell_methods': 'time: point'} (1, 135, 48602)\n",
      " No need to interpolate in the vertical \n",
      "ncl_a1 {'mdims': 1, 'units': 'kg/kg', 'mixing_ratio': 'dry', 'long_name': 'ncl_a1', 'cell_methods': 'time: point'} (1, 135, 48602)\n",
      " No need to interpolate in the vertical \n",
      "ncl_a2 {'mdims': 1, 'units': 'kg/kg', 'mixing_ratio': 'dry', 'long_name': 'ncl_a2', 'cell_methods': 'time: point'} (1, 135, 48602)\n",
      " No need to interpolate in the vertical \n",
      "ncl_a3 {'mdims': 1, 'units': 'kg/kg', 'mixing_ratio': 'dry', 'long_name': 'ncl_a3', 'cell_methods': 'time: point'} (1, 135, 48602)\n",
      " No need to interpolate in the vertical \n",
      "num_a1 {'mdims': 1, 'units': 'kg/kg', 'mixing_ratio': 'dry', 'long_name': 'num_a1', 'cell_methods': 'time: point'} (1, 135, 48602)\n",
      " No need to interpolate in the vertical \n",
      "num_a2 {'mdims': 1, 'units': 'kg/kg', 'mixing_ratio': 'dry', 'long_name': 'num_a2', 'cell_methods': 'time: point'} (1, 135, 48602)\n",
      " No need to interpolate in the vertical \n",
      "num_a3 {'mdims': 1, 'units': 'kg/kg', 'mixing_ratio': 'dry', 'long_name': 'num_a3', 'cell_methods': 'time: point'} (1, 135, 48602)\n",
      " No need to interpolate in the vertical \n",
      "num_a4 {'mdims': 1, 'units': 'kg/kg', 'mixing_ratio': 'dry', 'long_name': 'num_a4', 'cell_methods': 'time: point'} (1, 135, 48602)\n",
      " No need to interpolate in the vertical \n",
      "pom_a1 {'mdims': 1, 'units': 'kg/kg', 'mixing_ratio': 'dry', 'long_name': 'pom_a1', 'cell_methods': 'time: point'} (1, 135, 48602)\n",
      " No need to interpolate in the vertical \n",
      "pom_a4 {'mdims': 1, 'units': 'kg/kg', 'mixing_ratio': 'dry', 'long_name': 'pom_a4', 'cell_methods': 'time: point'} (1, 135, 48602)\n",
      " No need to interpolate in the vertical \n",
      "so4_a1 {'mdims': 1, 'units': 'kg/kg', 'mixing_ratio': 'dry', 'long_name': 'so4_a1', 'cell_methods': 'time: point'} (1, 135, 48602)\n",
      " No need to interpolate in the vertical \n",
      "so4_a2 {'mdims': 1, 'units': 'kg/kg', 'mixing_ratio': 'dry', 'long_name': 'so4_a2', 'cell_methods': 'time: point'} (1, 135, 48602)\n",
      " No need to interpolate in the vertical \n",
      "so4_a3 {'mdims': 1, 'units': 'kg/kg', 'mixing_ratio': 'dry', 'long_name': 'so4_a3', 'cell_methods': 'time: point'} (1, 135, 48602)\n",
      " No need to interpolate in the vertical \n",
      "soa_a1 {'mdims': 1, 'units': 'kg/kg', 'mixing_ratio': 'dry', 'long_name': 'soa_a1', 'cell_methods': 'time: point'} (1, 135, 48602)\n",
      " No need to interpolate in the vertical \n",
      "soa_a2 {'mdims': 1, 'units': 'kg/kg', 'mixing_ratio': 'dry', 'long_name': 'soa_a2', 'cell_methods': 'time: point'} (1, 135, 48602)\n"
     ]
    }
   ],
   "source": [
    "import RegridField as RgF\n",
    "import copy\n",
    "importlib.reload( RgF )\n",
    "\n",
    "eraX_xtnd = copy.deepcopy( eraX )\n",
    "ps     = eraX.PS.values\n",
    "\n",
    "for fld in RestXvars:\n",
    "    Q1 = (('lev' in RestX[fld].dims) or ('ilev' in RestX[fld].dims) )\n",
    "    Q2 = (fld not in eraXvars )\n",
    "    #print( fld, Q1, Q2 )\n",
    "    if ( (Q1==True ) and ( Q2==True) ):\n",
    "        #print( fld, RestX[fld].dims )\n",
    "        aa = RestX[fld].values\n",
    "        aa_z = RgF.Vert(DstVgrid='L135', DstTZHkey='tzc', SrcVgrid='L135', xfld_Src=aa, ps_Src=ps )\n",
    "        print( fld, RestX[fld].attrs , np.shape(aa_z) )\n",
    "\n",
    "        \n",
    "        Dar = xr.DataArray( data=aa_z, \n",
    "                            dims=('time','lev','ncol',),\n",
    "                            attrs=RestX[fld].attrs ,)\n",
    "        \n",
    "        eraX_xtnd[fld] = Dar\n",
    "                \n"
   ]
  },
  {
   "cell_type": "code",
   "execution_count": 11,
   "id": "6a95d595-3122-4eec-8907-ade76f8ccd9b",
   "metadata": {},
   "outputs": [
    {
     "name": "stdout",
     "output_type": "stream",
     "text": [
      "/glade/campaign/cgd/amp/juliob/ERA5/ne30np4/L135/ERA5_x_ne30np4_L135_rgC2_WO_aero.1985-01-01-00000.nc\n"
     ]
    }
   ],
   "source": [
    "# Make destination file name by replacing '_WO.'\n",
    "\n",
    "#eraF  ='/glade/campaign/cgd/amp/juliob/ERA5/ne30np4/L32/ERA5_x_ne30np4_L32_rgC2_WO.2000-01-01-00000.nc'\n",
    "\n",
    "eraF_xtnd = eraF.replace('_WO.', '_WO_aero.' )\n",
    "print(eraF_xtnd)\n",
    "eraX_xtnd.to_netcdf(  eraF_xtnd )"
   ]
  },
  {
   "cell_type": "code",
   "execution_count": 10,
   "id": "5075a733-746a-436c-a929-0ad312e2b830",
   "metadata": {},
   "outputs": [
    {
     "data": {
      "text/plain": [
       "[<matplotlib.lines.Line2D at 0x152f1004de40>]"
      ]
     },
     "execution_count": 10,
     "metadata": {},
     "output_type": "execute_result"
    },
    {
     "data": {
      "image/png": "[encoded data removed]",
      "text/plain": [
       "<Figure size 640x480 with 1 Axes>"
      ]
     },
     "metadata": {},
     "output_type": "display_data"
    }
   ],
   "source": [
    "lev_a=eraX.lev.values\n",
    "zlev_a=-7.0*np.log( lev_a/1_000. )\n",
    "plt.plot( eraX_copy.U[0,:,20_000],zlev_a)\n",
    "plt.plot( eraX.U[0,:,20_000],zlev_a)\n",
    "plt.plot( eraX_xtnd.U[0,:,20_000],zlev_a,'.')\n"
   ]
  },
  {
   "cell_type": "code",
   "execution_count": null,
   "id": "0adc3e04-6d28-4dd0-aea2-6d3565db14a2",
   "metadata": {},
   "outputs": [],
   "source": [
    "eraX_xtnd"
   ]
  }
 ],
 "metadata": {
  "kernelspec": {
   "display_name": "NPL 2023b",
   "language": "python",
   "name": "npl-2023b"
  },
  "language_info": {
   "codemirror_mode": {
    "name": "ipython",
    "version": 3
   },
   "file_extension": ".py",
   "mimetype": "text/x-python",
   "name": "python",
   "nbconvert_exporter": "python",
   "pygments_lexer": "ipython3",
   "version": "3.10.12"
  }
 },
 "nbformat": 4,
 "nbformat_minor": 5
}

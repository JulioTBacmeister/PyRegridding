{
 "cells": [
  {
   "cell_type": "code",
   "execution_count": 1,
   "id": "540d0f09-ad08-4103-9268-e5d6c849f6de",
   "metadata": {},
   "outputs": [],
   "source": [
    "import sys\n",
    "\n",
    "import xarray as xr\n",
    "import numpy as np\n",
    "import matplotlib.pyplot as plt\n",
    "import pandas as pd"
   ]
  },
  {
   "cell_type": "code",
   "execution_count": 2,
   "id": "765e5c03-9192-4ca5-8458-a97e287a2617",
   "metadata": {},
   "outputs": [],
   "source": [
    "VgridFile = '/glade/work/juliob/ERA5-proc/CAM-grids/Vertical/GRID_48_taperstart10km_lowtop_BL10_v3p1_beta1p75.nc'\n",
    "Vgrid=xr.open_dataset( VgridFile )\n",
    "\n",
    "\n",
    "\n",
    "NewFile = '/glade/derecho/scratch/juliob/archive/test3.02.2/atm/hist/test3.02.2.cam.h0.2000-01.nc'\n",
    "New=xr.open_dataset(NewFile)\n",
    "\n",
    "#Vgrid\n",
    "\n",
    "#ilev = (aint_CAM+bint_CAM)* 1_000. #* 100_000.\n",
    "#lev  = (amid_CAM+bmid_CAM)* 1_000. #* 100_000.\n",
    "\n",
    "ilev = (New.hyai+New.hybi).values * 1_000. #* 100_000.\n",
    "lev  = (New.hyam+New.hybm).values * 1_000. #* 100_000.\n",
    "\n",
    "\n",
    "dims   = [\"lev\",\"ilev\"]\n",
    "coords = dict( \n",
    "    lev  = ( [\"lev\"],lev),\n",
    "    ilev = ( [\"ilev\"],ilev),\n",
    ")\n",
    "\n",
    "NewVgrid = xr.Dataset( coords=coords  )\n",
    "\n",
    "Dar = xr.DataArray( data=New.hyai.values, dims=('ilev',),\n",
    "                    attrs=dict( description='interface hybrid eta coordinate A-coeff ',units='1',) ,) \n",
    "NewVgrid['hyai'] = Dar\n",
    "\n",
    "Dar = xr.DataArray( data=New.hybi.values, dims=('ilev',),\n",
    "                    attrs=dict( description='interface hybrid eta coordinate B-coeff ',units='1',) ,) \n",
    "NewVgrid['hybi'] = Dar\n",
    "\n",
    "Dar = xr.DataArray( data=New.hyam.values, dims=('lev',),\n",
    "                    attrs=dict( description='mid-level hybrid eta coordinate A-coeff ',units='1',) ,) \n",
    "NewVgrid['hyam'] = Dar\n",
    "\n",
    "Dar = xr.DataArray( data=New.hybm.values, dims=('lev',),\n",
    "                    attrs=dict( description='mid-level hybrid eta coordinate B-coeff ',units='1',) ,) \n",
    "NewVgrid['hybm'] = Dar\n",
    "\n",
    "\n",
    "#print(ilev*100.)\n",
    "\n",
    "\n",
    "NewVgridFile = '/glade/work/juliob/ERA5-proc/CAM-grids/Vertical/GRID_93L_CAM7_c202312.nc'\n",
    "NewVgrid.to_netcdf( NewVgridFile )\n"
   ]
  },
  {
   "cell_type": "code",
   "execution_count": null,
   "id": "612b6442-1e62-4157-8e68-61534fa6ae15",
   "metadata": {},
   "outputs": [],
   "source": []
  }
 ],
 "metadata": {
  "kernelspec": {
   "display_name": "NPL 2022b",
   "language": "python",
   "name": "npl-2022b"
  },
  "language_info": {
   "codemirror_mode": {
    "name": "ipython",
    "version": 3
   },
   "file_extension": ".py",
   "mimetype": "text/x-python",
   "name": "python",
   "nbconvert_exporter": "python",
   "pygments_lexer": "ipython3",
   "version": "3.8.13"
  }
 },
 "nbformat": 4,
 "nbformat_minor": 5
}

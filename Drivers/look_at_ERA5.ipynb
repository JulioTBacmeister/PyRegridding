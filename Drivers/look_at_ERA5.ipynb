{
 "cells": [
  {
   "cell_type": "code",
   "execution_count": 1,
   "id": "5c86a887-bb47-40d3-9681-8cbcd3edc822",
   "metadata": {},
   "outputs": [
    {
     "name": "stdout",
     "output_type": "stream",
     "text": [
      "Using Flexible parallel/serial VertRegrid \n",
      "Using Flexible parallel/serial VertRegrid \n"
     ]
    },
    {
     "data": {
      "text/plain": [
       "<module 'FVRegrid' from '/glade/work/juliob/PyRegridding/Drivers/../Regridder/FVRegrid.py'>"
      ]
     },
     "execution_count": 1,
     "metadata": {},
     "output_type": "execute_result"
    }
   ],
   "source": [
    "import sys\n",
    "\n",
    "import xarray as xr\n",
    "import numpy as np\n",
    "import matplotlib.pyplot as plt\n",
    "import pandas as pd\n",
    "\n",
    "import importlib\n",
    "from scipy.io import FortranFile\n",
    "\n",
    "import time \n",
    "import cftime \n",
    "\n",
    "# import modules in other directories\n",
    "sys.path.append('../Utils/')\n",
    "import GridUtils as GrU\n",
    "import MakePressures as MkP\n",
    "import humiditycalcs as hum\n",
    "import MyConstants as Con\n",
    "\n",
    "sys.path.append('../Regridder/')\n",
    "import GenRegrid as GR\n",
    "import FVRegrid as FV\n",
    "\n",
    "\n",
    "importlib.reload( GR )\n",
    "importlib.reload( FV )\n"
   ]
  },
  {
   "cell_type": "markdown",
   "id": "1adb3c5d-2094-426b-80ee-ccabbab5ea23",
   "metadata": {},
   "source": [
    "## START HERE FOR \"BATCH\""
   ]
  },
  {
   "cell_type": "code",
   "execution_count": 3,
   "id": "401a4924-ac67-4818-a6b7-609142fd26db",
   "metadata": {},
   "outputs": [
    {
     "name": "stdout",
     "output_type": "stream",
     "text": [
      "In prep Src= ERA5 to Dst=fv1x1 \n",
      "Generating regridding weights. Method CONSERVE : ESMF method= 2\n",
      " Src scripfile /glade/work/juliob/ERA5-proc/ERA5interp/grids/ERA5_640x1280_scrip.nc \n",
      " Dst scripfile /glade/p/cesmdata/cseg/inputdata/share/scripgrids/fv0.9x1.25_141008.nc \n",
      " Src topo file /glade/work/juliob/ERA5-proc/ERA5interp/phis/ERA5_phis.nc \n",
      " Dst topo file /glade/p/cesmdata/cseg/inputdata/atm/cam/topo/fv_0.9x1.25_nc3000_Nsw042_Nrs008_Co060_Fi001_ZR_160505.nc \n",
      " L32 Dst vertical grid from /glade/p/cesmdata/cseg/inputdata/atm/cam/inic/se/f.e22.FC2010climo.ne30pg3_ne30pg3_mg17.cam6_2_022.002.cam.i.0020-01-01-00000_c200610.nc \n",
      "Prepping for ERA5 to fv1x1 proc in GenRegrid took  23.4934 seconds\n"
     ]
    }
   ],
   "source": [
    "RegridMethod=\"CONSERVE\" \n",
    "foo = GR.prep(Dst='fv1x1',DstVgrid='L32',Src='ERA5',WOsrf=True, RegridMethod=RegridMethod )"
   ]
  },
  {
   "cell_type": "code",
   "execution_count": 4,
   "id": "08323112-423f-411e-93c9-d4c07fee6b69",
   "metadata": {},
   "outputs": [
    {
     "name": "stdout",
     "output_type": "stream",
     "text": [
      "Time tags for ERA5 files ...\n",
      "198001\n",
      "1980011500_1980011505\n",
      "tzyx\n",
      "Using DASK \n",
      "ERA5 Global mean surface pressure= 79287824129.61296\n",
      "ERA5 Global mean surface pressure= 79285072391.0151\n",
      "ERA5 Global mean surface pressure= 79282756903.65837\n",
      "ERA5 Global mean surface pressure= 79279387701.76538\n",
      "ERA5 Global mean surface pressure= 79275810441.58817\n",
      "ERA5 Global mean surface pressure= 79273239915.04431\n",
      "shape of a_model  (137,)\n",
      "Reading one set of ERA5 vars took  113.4045 seconds\n"
     ]
    }
   ],
   "source": [
    "#faa=GR.get_ERA5( year=2021,month=6,day=1,hour0=0 )\n",
    "\n",
    "#faa=GR.get_ERA5( year=2017,month=1,day=1 , hour0=0)\n",
    "faa=GR.get_ERA5( year=1980,month=1,day=15 , hour0=0)"
   ]
  },
  {
   "cell_type": "code",
   "execution_count": 5,
   "id": "02d76870-b33b-4255-aeb6-43fb339a5f38",
   "metadata": {},
   "outputs": [
    {
     "name": "stdout",
     "output_type": "stream",
     "text": [
      " Running through and writing netcdf \n",
      "starting xRegrid ERA5 _x_ fv1x1 at Wed Apr 26 13:34:51 2023 \n",
      "Finished phis Horz Rgrd  0.3588 seconds\n",
      "Finished ps Horz Rgrd  0.4172 seconds\n",
      "Finished te_ERA Horz Rgrd  41.0337 seconds\n",
      "amid_ERA     (137,)\n",
      "ps_ERA_xCAM  (6, 192, 288)\n",
      "te_ERA_xCAM  (6, 137, 192, 288)\n",
      "Finding Te150 and P150 took  3.8727 seconds\n",
      " In PsAdjust \n",
      "PHIS (192, 288)\n",
      "PHIS_CAM (192, 288)\n",
      "PS (6, 192, 288)\n",
      "Creating 3D P-fields etc., took   2.8460 seconds\n",
      "WilliamsonOlson surface \n",
      "Williamson Olson surface took  6.2710 seconds\n",
      " going into vertical regrid of T \n",
      "Flexible VertRegrid using reshaped ARRAYS \n",
      "nworkers available  1\n",
      "Using serial code which is faster for 1 worker\n",
      "Pll'zd Vertical int 59.4719 seconds\n",
      " going into horz+vertical regrid of Q \n",
      "Horz RG in fullRegrid \n",
      "Vert RG in fullRegrid \n",
      "Flexible VertRegrid using reshaped ARRAYS \n",
      "nworkers available  1\n",
      "Using serial code which is faster for 1 worker\n",
      "Pll'zd Vertical int 25.2388 seconds\n",
      " ... Bottom filling took 3.5190 seconds\n",
      " going into horz+vertical regrid of U \n",
      "Horz RG in fullRegrid \n",
      "Vert RG in fullRegrid \n",
      "Flexible VertRegrid using reshaped ARRAYS \n",
      "nworkers available  1\n",
      "Using serial code which is faster for 1 worker\n",
      "Pll'zd Vertical int 24.6139 seconds\n",
      " ... Bottom filling took 3.6187 seconds\n",
      " going into horz+vertical regrid of V \n",
      "Horz RG in fullRegrid \n",
      "Vert RG in fullRegrid \n",
      "Flexible VertRegrid using reshaped ARRAYS \n",
      "nworkers available  1\n",
      "Using serial code which is faster for 1 worker\n",
      "Pll'zd Vertical int 23.4180 seconds\n",
      " ... Bottom filling took 3.2893 seconds\n",
      " going into horz+vertical regrid of W \n",
      "Horz RG in fullRegrid \n",
      "Vert RG in fullRegrid \n",
      "Flexible VertRegrid using reshaped ARRAYS \n",
      "nworkers available  1\n",
      "Using serial code which is faster for 1 worker\n",
      "Pll'zd Vertical int 22.4818 seconds\n",
      " ... Bottom filling took 3.3287 seconds\n",
      "Overall time in this function  307.2452 seconds\n",
      "6\n",
      "Creating FV staggered US,VS took 4.2438 seconds\n",
      "/glade/scratch/juliob/ERA5_x_fv1x1_L32_20230426_1934_CONSERVE_WO.1980-01-15-00000.nc\n",
      "/glade/scratch/juliob/ERA5_x_fv1x1_L32_20230426_1934_CONSERVE_WO.1980-01-15-03600.nc\n",
      "/glade/scratch/juliob/ERA5_x_fv1x1_L32_20230426_1934_CONSERVE_WO.1980-01-15-07200.nc\n",
      "/glade/scratch/juliob/ERA5_x_fv1x1_L32_20230426_1934_CONSERVE_WO.1980-01-15-10800.nc\n",
      "/glade/scratch/juliob/ERA5_x_fv1x1_L32_20230426_1934_CONSERVE_WO.1980-01-15-14400.nc\n",
      "/glade/scratch/juliob/ERA5_x_fv1x1_L32_20230426_1934_CONSERVE_WO.1980-01-15-18000.nc\n"
     ]
    }
   ],
   "source": [
    "#pmid_ERA, pmid_CAM, pmid_CAM_zERA , te_ERA, te_ERA_xCAM , te_ERA_xzCAM  =GR.xRegrid()\n",
    "\n",
    "ExitAfterWinds=False\n",
    "ExitAfterTemperature=False\n",
    "verstime=time.strftime(\"%Y%m%d_%H%M\", time.gmtime() ) + '_'+RegridMethod  #+'_lnPS'\n",
    "if ( ExitAfterTemperature == True):\n",
    "    print( \" Exiting after Temp \" )\n",
    "    pmid_ERA, lat_ERA, lon_ERA, te_ERA, \\\n",
    "    pmid_CAM_zERA, lat_CAM, lon_CAM, te_ERA_xCAM, \\\n",
    "    pmid_CAM, te_ERA_xzCAM, \\\n",
    "    ps_ERA, ps_CAM, ps_ERA_xCAM, \\\n",
    "    phis_ERA, phis_CAM, phis_ERA_xCAM = GR.xRegrid( ExitAfterTemperature=True, \n",
    "                                                    HorzInterpLnPs=True )\n",
    "elif ( ExitAfterWinds == True):\n",
    "    print( \" Exiting after Winds \" )\n",
    "    pmid_ERA, lat_ERA, lon_ERA, u_ERA, \\\n",
    "    pmid_CAM_zERA, lat_CAM, lon_CAM, u_ERA_xCAM, \\\n",
    "    pmid_CAM, u_ERA_xzCAM, \\\n",
    "    ps_ERA, ps_CAM, ps_ERA_xCAM, \\\n",
    "    phis_ERA, phis_CAM, phis_ERA_xCAM = GR.xRegrid( ExitAfterWinds=True, \n",
    "                                                    HorzInterpLnPs=True )\n",
    "else:\n",
    "    print( \" Running through and writing netcdf \" )\n",
    "    fii=GR.xRegrid(HorzInterpLnPs=False)\n",
    "    fuu=GR.write_netcdf(version=verstime )"
   ]
  },
  {
   "cell_type": "code",
   "execution_count": null,
   "id": "1a9a461b-0697-4b6c-a6c8-7d753fe9728f",
   "metadata": {},
   "outputs": [],
   "source": [
    "import glob\n",
    "\n",
    "##fuu=GR.write_netcdf(version='poo4' )\n",
    "Nudge_Path=sorted(glob.glob('/glade/scratch/wchapman/inputdata/nudging/ERAI_fv09/L32/*.nc'))\n",
    "DSe = xr.open_dataset(Nudge_Path[0],decode_times=False)\n",
    "    "
   ]
  },
  {
   "cell_type": "code",
   "execution_count": null,
   "id": "88b7908a-8999-4947-8a14-fbb4b1a682c4",
   "metadata": {},
   "outputs": [],
   "source": [
    "lat = DSe['lat'].values\n",
    "lon = DSe['lon'].values\n",
    "slat = DSe['slat'].values\n",
    "slon = DSe['slon'].values\n",
    "ug = DSe['U'].values\n",
    "vg = DSe['V'].values\n",
    "us = DSe['US'].values\n",
    "vs = DSe['VS'].values"
   ]
  },
  {
   "cell_type": "code",
   "execution_count": null,
   "id": "3301fa81-ffc2-4b87-8397-509d915bf7a2",
   "metadata": {},
   "outputs": [],
   "source": [
    "print(\"US --> \",DSe['US'].dims)\n",
    "print(\"VS --> \",DSe['VS'].dims)\n",
    "\n"
   ]
  },
  {
   "cell_type": "code",
   "execution_count": null,
   "id": "bf1a90f9-b395-4cfa-9467-adf751814e64",
   "metadata": {},
   "outputs": [],
   "source": [
    "US,VS,slat,slon = FV.uvStaggers(U=ug,V=vg,lon=lon,lat=lat)\n"
   ]
  },
  {
   "cell_type": "code",
   "execution_count": null,
   "id": "8f2e501b-ee5c-481e-aaf0-f3ab45db3d66",
   "metadata": {},
   "outputs": [],
   "source": [
    "plt.plot( US[0,28,40,:] )\n",
    "plt.plot( us[0,28,40,:] )\n"
   ]
  },
  {
   "cell_type": "code",
   "execution_count": null,
   "id": "16e8d13d-5679-446c-857a-ba73e030eeb8",
   "metadata": {},
   "outputs": [],
   "source": [
    "print(\"FV U's. U:\",np.shape(ug), \" US:\",np.shape(us))\n",
    "print(\"FV V's. V:\",np.shape(vg), \" VS:\",np.shape(vs))\n",
    "nt,nz,ny,nx=np.shape(ug)\n",
    "vgL=vg[0,28,:,:]\n",
    "vsL=vs[0,28,:,:]\n",
    "#vgLx = np.append( vgL , vgL[:,0].reshape(ny,1), axis=1)\n",
    "#lonx = np.append( lon , lon[0].reshape(1), axis=0)\n",
    "\n",
    "vgLx = np.concatenate( ( vgL[:,nx-1].reshape(ny,1), vgL) , axis=1)\n",
    "lonx = np.concatenate( ( lon[nx-1].reshape(1) ,lon), axis=0)\n",
    "lonx[0]=lonx[0]-360.\n",
    "\n",
    "print(np.shape(vgL))\n",
    "print(np.shape(vgLx))\n",
    "print(lon[nx-1])"
   ]
  },
  {
   "cell_type": "code",
   "execution_count": null,
   "id": "e01f0f52-074e-466e-a912-7a492e600c64",
   "metadata": {},
   "outputs": [],
   "source": [
    "print(lonx[0:2])\n",
    "slon2=(lonx[1:]+lonx[0:-1] )/2.\n",
    "plt.plot( slon - slon2 )"
   ]
  },
  {
   "cell_type": "code",
   "execution_count": null,
   "id": "59eab3f8-6504-4092-8c1f-71dfe6307f6c",
   "metadata": {},
   "outputs": [],
   "source": [
    "from scipy.interpolate import RegularGridInterpolator as RGi\n",
    "\n",
    "interp = RGi( (lat,lonx),  vgLx )\n",
    "\n",
    "#bounds_error=False, fill_value=None)\n",
    "\n",
    "\n",
    "Lat, SLon = np.meshgrid(lat, slon )\n",
    "\n",
    "boo=interp( (Lat, SLon) ).T"
   ]
  },
  {
   "cell_type": "code",
   "execution_count": null,
   "id": "ab1da1fc-9572-4911-b22c-8788e8aed269",
   "metadata": {},
   "outputs": [],
   "source": [
    "\n",
    "plt.plot(vsL[40,:])\n",
    "plt.plot( boo[40,:] )"
   ]
  },
  {
   "cell_type": "code",
   "execution_count": null,
   "id": "9b79fc12-9301-4a0d-bd17-5ae846e3ad06",
   "metadata": {},
   "outputs": [],
   "source": [
    "file1='/glade/scratch/juliob/ERA5_x_fv1x1_L58_poo4_WO.2017-01-01-18000.nc'\n",
    "dood=xr.open_dataset( file1 )"
   ]
  },
  {
   "cell_type": "code",
   "execution_count": null,
   "id": "1edc19b1-cb58-4111-aad2-3260a42b33b5",
   "metadata": {},
   "outputs": [],
   "source": [
    "print( np.shape(dood['U'] ) )\n",
    "print( dood['TimeStamp'] )"
   ]
  },
  {
   "cell_type": "code",
   "execution_count": null,
   "id": "319db5ea-8e40-40a8-b382-cdc21761d45c",
   "metadata": {},
   "outputs": [],
   "source": [
    "aa=np.zeros((5,30,30))\n",
    "print(np.shape(aa))\n",
    "print(np.shape(aa[0,:,:].reshape(1,30,30)))\n"
   ]
  },
  {
   "cell_type": "code",
   "execution_count": null,
   "id": "9952a723-5746-417a-9bbf-4f51127d15eb",
   "metadata": {},
   "outputs": [],
   "source": [
    "#pmid_ERA, pmid_CAM, pmid_CAM_zERA , te_ERA, te_ERA_xCAM , te_ERA_xzCAM  =GR.xRegrid()\n",
    "\n",
    "pmid_ERA, lat_ERA, lon_ERA, te_ERA, \\\n",
    "pmid_CAM_zERA, lat_CAM, lon_CAM, te_ERA_xCAM, \\\n",
    "pmid_CAM, te_ERA_xzCAM, \\\n",
    "ps_ERA, ps_CAM, ps_ERA_xCAM, \\\n",
    "phis_ERA, phis_CAM, phis_ERA_xCAM = GR.xRegrid( ExitAfterTemperature=True, \n",
    "                                                HorzInterpLnPs=False, \n",
    "                                                Use_ps_ERA_xCAM_in_vert=True )\n",
    "\n",
    "\n",
    "#fii=GR.xRegrid()"
   ]
  },
  {
   "cell_type": "code",
   "execution_count": null,
   "id": "7d980ed5-90c1-493c-b188-b14939024d6f",
   "metadata": {},
   "outputs": [],
   "source": [
    "clev=np.linspace(200,330,num=31)\n",
    "dlev=np.linspace(-10,10,num=21)\n",
    "#clev=np.linspace(277,287,num=31)\n",
    "#ERA - 89 128\n",
    "#CAM -124 72\n",
    "print(lon_ERA[128], lat_ERA[89])\n",
    "\n",
    "# Global\n",
    "elon,wlon=0,360\n",
    "slat,nlat=-90,90\n",
    "\n",
    "# Tibet ...\n",
    "#elon,wlon=70,100\n",
    "#slat,nlat=25,40\n",
    "\n",
    "# Andes ...\n",
    "#elon,wlon=280,300\n",
    "#slat,nlat=-40,-10\n",
    "\n",
    "# Himalayan Front\n",
    "#elon,wlon=85,95\n",
    "#slat,nlat=25,28\n",
    "\n",
    "\n",
    "kCAM=57\n",
    "kERA=136\n",
    "nCAM=5\n",
    "\n",
    "fig,ax = plt.subplots(2,2,figsize=(18,18) ,squeeze=False )\n",
    "\n",
    "i,j=0,0\n",
    "cf = ax[i,j].contourf( lon_CAM, lat_CAM, te_ERA_xzCAM[nCAM,kCAM,:,:],levels=clev )\n",
    "ax[i,j].set_xlim(elon,wlon)\n",
    "ax[i,j].set_ylim(slat,nlat)\n",
    "ax[i,j].set_title(\"ERA Temp on xzCAM grid from Python code\")\n",
    "plt.colorbar(cf,ax=ax[i,j] )\n",
    "\n",
    "i,j=0,1\n",
    "cf = ax[i,j].contourf( lon_CAM, lat_CAM, te_ERA_xCAM[nCAM,kERA,:,:],levels=clev )\n",
    "ax[i,j].set_xlim(elon,wlon)\n",
    "ax[i,j].set_ylim(slat,nlat)\n",
    "ax[i,j].set_title(\"ERA Temp on xCAM/zERA grid\")\n",
    "plt.colorbar(cf,ax=ax[i,j] )\n"
   ]
  },
  {
   "cell_type": "code",
   "execution_count": null,
   "id": "d96f597b-6fb2-43c2-b5aa-893dff76306b",
   "metadata": {},
   "outputs": [],
   "source": [
    "# Let's look at some interensitng points here\n",
    "#\n",
    "location=\"Australia\"\n",
    "nCAM=3\n",
    "if (location==\"Himalayas\"):\n",
    "    #Himalayan peaks\n",
    "    Plat,Plon = 36.,76.\n",
    "    ylim=(60_000.,42_000.)\n",
    "    xlim=(240,270 )\n",
    "\n",
    "\n",
    "if (location==\"Andes\"):\n",
    "    #Andean peaks\n",
    "    Plat,Plon=-30.,290.\n",
    "    ylim=(75_000.,60_000.)\n",
    "    xlim=(280,300 )\n",
    "\n",
    "if (location==\"Australia\"):\n",
    "    #Australia desert (Alice Springs)\n",
    "    Plat,Plon=-23.4,135.\n",
    "    ylim=(96_000.,85_000.)\n",
    "    xlim=(280,320 )\n",
    "\n",
    "iCAM=np.argmin( np.abs( lon_CAM - Plon ))\n",
    "jCAM=np.argmin( np.abs( lat_CAM - Plat ))\n",
    "iERA=np.argmin( np.abs( lon_ERA - Plon ))\n",
    "jERA=np.argmin( np.abs( lat_ERA - Plat ))\n",
    "\n",
    "#print(te_ERA_xzCAM[nCAM,kCAM,ilat,ilon] )\n",
    "\n",
    "plt.plot( te_ERA_xCAM [nCAM,:, jCAM, iCAM] , pmid_CAM_zERA [nCAM,:, jCAM, iCAM], '-x' \n",
    "         , label='ERA Temp from Python code on xCAM and zERA' )\n",
    "\n",
    "\"\"\"\n",
    "plt.plot( te_ERA_xCAM_wo2[:, jCAM, iCAM]-0 , press_ERA[:, jCAM, iCAM], '-o' \n",
    "         , label='ERA Temp on xCAM and zERA from GUTS OF W&O' )\n",
    "\"\"\"\n",
    "\n",
    "plt.plot( te_ERA_xzCAM [nCAM,:, jCAM, iCAM], pmid_CAM [nCAM,:, jCAM, iCAM], '-^' \n",
    "         , label='ERA Temp from Python code on xzCAM' )\n",
    "\n",
    "plt.plot( te_ERA [nCAM,:, jERA, iERA] , pmid_ERA [nCAM,:, jERA, iERA], '-^' \n",
    "         , label='ERA Temp from nearby point ' )\n",
    "\n",
    "\"\"\"\n",
    "plt.plot( te_ERA_xzCAM_wo2[:, jCAM, iCAM]+2 , press_CAM[:, jCAM, iCAM], '-*' \n",
    "         , label='ERA Temp on xzCAM from GUTS OF W&O' )\n",
    "\"\"\"\n",
    "\n",
    "plt.ylim( ylim )\n",
    "plt.xlim( xlim )\n",
    "\n",
    "\n",
    "plt.legend(loc='upper left')\n"
   ]
  },
  {
   "cell_type": "code",
   "execution_count": null,
   "id": "0ec602e2-9654-42ae-a68f-d804de03868a",
   "metadata": {},
   "outputs": [],
   "source": [
    "print( np.minimum( [0.],[200])[0] )"
   ]
  },
  {
   "cell_type": "code",
   "execution_count": null,
   "id": "4bd620f9-c67d-4ea9-a5f7-2599a5bd4205",
   "metadata": {},
   "outputs": [],
   "source": [
    "Dphis = phis_ERA_xCAM - phis_CAM\n",
    "plt.plot(Dphis.flatten()-dphis_WO.flatten() )"
   ]
  },
  {
   "cell_type": "code",
   "execution_count": null,
   "id": "e42e352e-470c-424b-a617-d761277e49ac",
   "metadata": {},
   "outputs": [],
   "source": [
    "#fuu=GR.write_netcdf(version='test02-oldtopo')"
   ]
  },
  {
   "cell_type": "markdown",
   "id": "cee4acae-92aa-4208-991c-4552622366c0",
   "metadata": {},
   "source": [
    "## Check Mapping files"
   ]
  },
  {
   "cell_type": "code",
   "execution_count": null,
   "id": "4885882d-d235-48eb-8830-812d0104ae3f",
   "metadata": {},
   "outputs": [],
   "source": [
    "\n",
    "\n",
    "#ERA - 89 128\n",
    "#CAM -124 72\n",
    "jCAM,iCAM = 124,72\n",
    "jERA,iERA = 89,128\n",
    "nCAM = 3\n",
    "\n",
    "plt.plot( te_ERA_xCAM [nCAM,:, jCAM, iCAM] , pmid_CAM_zERA [nCAM,:, jCAM, iCAM], '-x' \n",
    "         , label='ERA Temp from Python code on xCAM and zERA' )\n",
    "\n",
    "plt.plot( te_ERA_xCAM_wo2[:, jCAM, iCAM] , press_ERA[:, jCAM, iCAM], '-o' \n",
    "         , label='ERA Temp on xCAM and zERA from GUTS OF W&O' )\n",
    "\n",
    "\n",
    "\n",
    "#plt.plot( te_ERA_xzCAM [0,:,124, 72] , pmid_CAM [0,:,124, 72], '-o' , label='ERA Temp from Python code on xzCAM' )\n",
    "#plt.plot( te_ERA[0,:,89, 128] ,pmid_ERA [0,:,89, 128] ,'-+', label='ERA Temp at closest xERA point' )\n",
    "\n",
    "\n",
    "plt.ylim(88_000.,70_000.)\n",
    "plt.xlim(270,290)\n",
    "plt.legend()\n",
    "\n",
    "print(ps_new[jCAM,iCAM])\n",
    "print(ps_CAM[nCAM,jCAM,iCAM])\n",
    "\n",
    "print(ps_old[jCAM,iCAM])\n",
    "print(ps_ERA_xCAM[nCAM,jCAM,iCAM])\n",
    "\n"
   ]
  }
 ],
 "metadata": {
  "kernelspec": {
   "display_name": "NPL 2022b",
   "language": "python",
   "name": "npl-2022b"
  },
  "language_info": {
   "codemirror_mode": {
    "name": "ipython",
    "version": 3
   },
   "file_extension": ".py",
   "mimetype": "text/x-python",
   "name": "python",
   "nbconvert_exporter": "python",
   "pygments_lexer": "ipython3",
   "version": "3.8.13"
  }
 },
 "nbformat": 4,
 "nbformat_minor": 5
}

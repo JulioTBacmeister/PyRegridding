{
 "cells": [
  {
   "cell_type": "code",
   "execution_count": 1,
   "id": "5c86a887-bb47-40d3-9681-8cbcd3edc822",
   "metadata": {},
   "outputs": [
    {
     "name": "stdout",
     "output_type": "stream",
     "text": [
      "Using Flexible parallel/serial VertRegrid \n",
      "Using Flexible parallel/serial VertRegrid \n"
     ]
    },
    {
     "data": {
      "text/plain": [
       "<module 'WriteDST' from '/glade/work/juliob/PyRegridding/Drivers/../Regridder/WriteDST.py'>"
      ]
     },
     "execution_count": 1,
     "metadata": {},
     "output_type": "execute_result"
    }
   ],
   "source": [
    "import sys\n",
    "\n",
    "import xarray as xr\n",
    "import numpy as np\n",
    "import matplotlib.pyplot as plt\n",
    "import pandas as pd\n",
    "\n",
    "import importlib\n",
    "from scipy.io import FortranFile\n",
    "\n",
    "import time \n",
    "import cftime \n",
    "\n",
    "# import modules in other directories\n",
    "sys.path.append('../Utils/')\n",
    "import GridUtils as GrU\n",
    "import MakePressures as MkP\n",
    "import humiditycalcs as hum\n",
    "import MyConstants as Con\n",
    "\n",
    "sys.path.append('../Regridder/')\n",
    "import Initialize as Prep\n",
    "import ReadInSrc as RdSrc\n",
    "import WriteDST as WrDst\n",
    "import GenRegrid as GR\n",
    "\n",
    "\n",
    "importlib.reload( GR )\n",
    "importlib.reload( Prep )\n",
    "importlib.reload( RdSrc )\n",
    "importlib.reload( WrDst )\n"
   ]
  },
  {
   "cell_type": "markdown",
   "id": "1adb3c5d-2094-426b-80ee-ccabbab5ea23",
   "metadata": {},
   "source": [
    "## START HERE FOR \"BATCH\""
   ]
  },
  {
   "cell_type": "code",
   "execution_count": 2,
   "id": "401a4924-ac67-4818-a6b7-609142fd26db",
   "metadata": {},
   "outputs": [
    {
     "name": "stdout",
     "output_type": "stream",
     "text": [
      "In prep Src= ERA5 to Dst=Arctic \n",
      "Generating regridding weights. Method CONSERVE : ESMF method= 2\n",
      " Src scripfile /glade/work/juliob/ERA5-proc/ERA5interp/grids/ERA5_640x1280_scrip.nc \n",
      " Dst scripfile /glade/work/aherring/grids/var-res/ne0np4.ARCTIC.ne30x4/grids/ne0ARCTICne30x4_scrip_191212.nc \n",
      " Src topo file /glade/work/juliob/ERA5-proc/ERA5interp/phis/ERA5_phis.nc \n",
      " Dst topo file /glade/p/cesmdata/cseg/inputdata/atm/cam/topo/se/ne30x4_ARCTIC_nc3000_Co060_Fi001_MulG_PF_RR_Nsw042_c200428.nc \n",
      " L32 Dst vertical grid from /glade/p/cesmdata/cseg/inputdata/atm/cam/inic/se/f.e22.FC2010climo.ne30pg3_ne30pg3_mg17.cam6_2_022.002.cam.i.0020-01-01-00000_c200610.nc \n",
      "Prepping for ERA5 to Arctic proc in Initialize took  36.8517 seconds\n"
     ]
    }
   ],
   "source": [
    "RegridMethod=\"CONSERVE\" \n",
    "foo = Prep.prep(Dst='Arctic',DstVgrid='L32',Src='ERA5',WOsrf=True, RegridMethod=RegridMethod )"
   ]
  },
  {
   "cell_type": "code",
   "execution_count": 3,
   "id": "08323112-423f-411e-93c9-d4c07fee6b69",
   "metadata": {},
   "outputs": [
    {
     "name": "stdout",
     "output_type": "stream",
     "text": [
      "Time tags for ERA5 files ...\n",
      "202106\n",
      "2021060100_2021060105\n",
      "tzc\n",
      "Serial read of data \n",
      "Reading data vars for 2021060100_2021060105 took  0.2666 seconds\n",
      "Extracting values from Xarrays took 106.2300 seconds\n",
      "ERA5 Global mean surface pressure= 79216312483.85638\n",
      "ERA5 Global mean surface pressure= 79214225189.45654\n",
      "ERA5 Global mean surface pressure= 79211889567.42714\n",
      "ERA5 Global mean surface pressure= 79209594214.74307\n",
      "ERA5 Global mean surface pressure= 79208043844.9477\n",
      "ERA5 Global mean surface pressure= 79206909591.72078\n",
      "shape of a_model  (137,)\n",
      "Reading one set of ERA5 vars took  106.9020 seconds\n"
     ]
    }
   ],
   "source": [
    "faa =RdSrc.get_Src( year=2021,month=6,day=1 , hour0=0)"
   ]
  },
  {
   "cell_type": "code",
   "execution_count": 4,
   "id": "02d76870-b33b-4255-aeb6-43fb339a5f38",
   "metadata": {},
   "outputs": [
    {
     "name": "stdout",
     "output_type": "stream",
     "text": [
      "starting xRegrid ERA5 _x_ Arctic at Wed Jul 19 16:01:45 2023 \n",
      "Finished phis Horz Rgrd  0.2876 seconds\n",
      "Finished ps Horz Rgrd  0.3681 seconds\n",
      "Finished te_ERA Horz Rgrd  42.6914 seconds\n",
      "Finding Te150 and P150 took  7.3601 seconds\n",
      " In PsAdjust \n",
      "PHIS (117398,)\n",
      "PHIS_CAM (117398,)\n",
      "PS (6, 117398)\n",
      "Creating 3D P-fields etc., took   7.7876 seconds\n",
      "WilliamsonOlson surface \n",
      "Williamson Olson surface took  19.3182 seconds\n",
      " going into vertical regrid of T \n",
      "Flexible VertRegrid using reshaped ARRAYS \n",
      "nworkers available  1\n",
      "Using serial code which is faster for 1 worker\n",
      "Pll'zd Vertical int 124.0357 seconds\n",
      " going into horz+vertical regrid of Q \n",
      "Horz RG in fullRegrid \n",
      "Vert RG in fullRegrid \n",
      "Flexible VertRegrid using reshaped ARRAYS \n",
      "nworkers available  1\n",
      "Using serial code which is faster for 1 worker\n",
      "Pll'zd Vertical int 49.7282 seconds\n",
      " ... Bottom filling took 5.8229 seconds\n",
      " going into horz+vertical regrid of U \n",
      "Horz RG in fullRegrid \n",
      "Vert RG in fullRegrid \n",
      "Flexible VertRegrid using reshaped ARRAYS \n",
      "nworkers available  1\n",
      "Using serial code which is faster for 1 worker\n",
      "Pll'zd Vertical int 50.7949 seconds\n",
      " ... Bottom filling took 5.9975 seconds\n",
      " going into horz+vertical regrid of V \n",
      "Horz RG in fullRegrid \n",
      "Vert RG in fullRegrid \n",
      "Flexible VertRegrid using reshaped ARRAYS \n",
      "nworkers available  1\n",
      "Using serial code which is faster for 1 worker\n",
      "Pll'zd Vertical int 50.6178 seconds\n",
      " ... Bottom filling took 5.7760 seconds\n",
      " going into horz+vertical regrid of W \n",
      "Horz RG in fullRegrid \n",
      "Vert RG in fullRegrid \n",
      "Flexible VertRegrid using reshaped ARRAYS \n",
      "nworkers available  1\n",
      "Using serial code which is faster for 1 worker\n",
      "Pll'zd Vertical int 49.8174 seconds\n",
      " ... Bottom filling took 6.0303 seconds\n",
      "Overall time in this function  516.7605 seconds\n"
     ]
    }
   ],
   "source": [
    "fii=GR.xRegrid(HorzInterpLnPs=False)"
   ]
  },
  {
   "cell_type": "code",
   "execution_count": 5,
   "id": "966d3906-1195-4f36-9445-cde99cf1a437",
   "metadata": {},
   "outputs": [],
   "source": [
    "#importlib.reload( WrDst )\n"
   ]
  },
  {
   "cell_type": "code",
   "execution_count": null,
   "id": "cf80f6a0-791a-4ea9-beab-9b7850a26d25",
   "metadata": {},
   "outputs": [],
   "source": []
  },
  {
   "cell_type": "code",
   "execution_count": 6,
   "id": "b9f5495a-5ad5-434d-8dec-2dfa1f84c682",
   "metadata": {},
   "outputs": [
    {
     "name": "stdout",
     "output_type": "stream",
     "text": [
      "6\n",
      "/glade/scratch/juliob/ERA5_x_Arctic_L32__WO.2021-06-01-00000.nc\n",
      "/glade/scratch/juliob/ERA5_x_Arctic_L32__WO.2021-06-01-03600.nc\n",
      "/glade/scratch/juliob/ERA5_x_Arctic_L32__WO.2021-06-01-07200.nc\n",
      "/glade/scratch/juliob/ERA5_x_Arctic_L32__WO.2021-06-01-10800.nc\n",
      "/glade/scratch/juliob/ERA5_x_Arctic_L32__WO.2021-06-01-14400.nc\n",
      "/glade/scratch/juliob/ERA5_x_Arctic_L32__WO.2021-06-01-18000.nc\n"
     ]
    }
   ],
   "source": [
    "fuu=WrDst.write_netcdf()"
   ]
  },
  {
   "cell_type": "code",
   "execution_count": null,
   "id": "6336419d-7a8b-4cd1-a50c-8aa1c4c77f1c",
   "metadata": {},
   "outputs": [],
   "source": [
    "#STOPP "
   ]
  },
  {
   "cell_type": "code",
   "execution_count": null,
   "id": "6071f711-e7a4-4ec4-8ad9-aa7f40f0d5ba",
   "metadata": {},
   "outputs": [],
   "source": [
    "from GlobalVarClass import Gv\n",
    "print(Gv.dstTZHkey)"
   ]
  },
  {
   "cell_type": "code",
   "execution_count": null,
   "id": "e42e352e-470c-424b-a617-d761277e49ac",
   "metadata": {},
   "outputs": [],
   "source": [
    "#fuu=GR.write_netcdf(version='test02-oldtopo')"
   ]
  },
  {
   "cell_type": "code",
   "execution_count": null,
   "id": "e401171d-b0ea-463d-85ef-f6ae44b839a3",
   "metadata": {
    "tags": []
   },
   "outputs": [],
   "source": [
    "# Let's look at some interensitng points here\n",
    "#\n",
    "location=\"SEPac\"\n",
    "\n",
    "if (location==\"Himalayas\"):\n",
    "    #Himalayan peaks\n",
    "    Plat,Plon = 36.,76.\n",
    "    ylim=(60_000.,42_000.)\n",
    "    xlim=(240,270 )\n",
    "\n",
    "if (location==\"Sahara\"):\n",
    "    #Bordj Badji Mokhtar Algeria\n",
    "    Plat,Plon = 23.9,-1.8\n",
    "    ylim=(100_000.,80_000.)\n",
    "    xlim=(290,330 )\n",
    "\n",
    "if (location==\"Sonora\"):\n",
    "    #Caborca\n",
    "    Plat,Plon = 30.7,-112.1\n",
    "    ylim=(100_000.,80_000.)\n",
    "    xlim=(295,315 )\n",
    "\n",
    "\n",
    "if (location==\"Andes\"):\n",
    "    #Andean peaks\n",
    "    Plat,Plon=-30.,290.\n",
    "    ylim=(85_000.,60_000.)\n",
    "    xlim=(250,300 )\n",
    "\n",
    "if (location==\"SEPac\"):\n",
    "    #\n",
    "    Plat,Plon=-30.,250.\n",
    "    ylim=(100_000.,60_000.)\n",
    "    xlim=(250,300 )\n",
    "\n",
    "if (location==\"Australia\"):\n",
    "    #Australia desert (Alice Springs)\n",
    "    Plat,Plon=-23.4,135.\n",
    "    ylim=(96_000.,85_000.)\n",
    "    xlim=(280,320 )\n",
    "\n",
    "if (Plon<0.):\n",
    "    Plon=Plon+360.\n",
    "    \n",
    "if (Gv.dstTZHkey=='tzyx'):\n",
    "    iCAM=np.argmin( np.abs( Gv.lon_CAM - Plon ))\n",
    "    jCAM=np.argmin( np.abs( Gv.lat_CAM - Plat ))\n",
    "if (Gv.dstTZHkey=='tzc'):\n",
    "    cCAM=np.argmin( np.sqrt(  (Gv.lon_CAM - Plon)**2 +  (Gv.lat_CAM - Plat)**2      )      )\n",
    "\n",
    "iERA=np.argmin( np.abs( Gv.lon_ERA - Plon ))\n",
    "jERA=np.argmin( np.abs( Gv.lat_ERA - Plat ))\n",
    "print(cCAM)\n",
    "print(Gv.lon_CAM[cCAM],Gv.lat_CAM[cCAM])\n",
    "plt.plot(Gv.lon_ERA)"
   ]
  },
  {
   "cell_type": "code",
   "execution_count": null,
   "id": "1ede50e5-0278-44e6-9d58-f2c7ad7b0b0e",
   "metadata": {
    "tags": []
   },
   "outputs": [],
   "source": [
    "#print(te_ERA_xzCAM[nCAM,kCAM,ilat,ilon] )\n",
    "\n",
    "\"\"\"\n",
    "plt.plot( te_ERA_xCAM [nCAM,:, jCAM, iCAM] , pmid_CAM_zERA [nCAM,:, jCAM, iCAM], '-x' \n",
    "         , label='ERA Temp from Python code on xCAM and zERA' )\n",
    "\n",
    "\n",
    "plt.plot( te_ERA_xzCAM [nCAM,:, jCAM, iCAM], pmid_CAM [nCAM,:, jCAM, iCAM], '-^' \n",
    "         , label='ERA Temp from Python code on xzCAM' )\n",
    "\"\"\"\n",
    "\n",
    "for ntime in np.arange(24):\n",
    "    if (ntime==0):\n",
    "        label1='ERA Temps'\n",
    "        label2='ERA Temps on xCAM'\n",
    "    else:\n",
    "        label1=None\n",
    "        label2=None\n",
    "        \n",
    "    plt.plot( Gv.te_ERA [ntime,:, jERA, iERA] , Gv.pmid_ERA [ntime,:, jERA, iERA], color='red'\n",
    "            , label=label1 )\n",
    "\n",
    "    plt.plot( Gv.te_ERA_xzCAM [ntime,:, cCAM] , Gv.pmid_CAM [ntime,:, cCAM], color='orange'\n",
    "            , label=label2 )\n",
    "\n",
    "\n",
    "#plt.ylim( ylim )\n",
    "#plt.xlim( xlim )\n",
    "plt.ylim( 103_000.,90_000.)\n",
    "plt.xlim( 285.,295. )\n",
    "\n",
    "\n",
    "plt.legend(loc='upper left')"
   ]
  },
  {
   "cell_type": "code",
   "execution_count": null,
   "id": "9e6be41d-6239-4c8b-95eb-678f17bebf65",
   "metadata": {},
   "outputs": [],
   "source": [
    "print(np.shape(Gv.pmid_CAM_zERA))#_zERA))\n",
    "plt.plot(Gv.pmid_CAM_zERA[0,:,20000])"
   ]
  },
  {
   "cell_type": "code",
   "execution_count": null,
   "id": "7d980ed5-90c1-493c-b188-b14939024d6f",
   "metadata": {},
   "outputs": [],
   "source": [
    "clev=np.linspace(200,330,num=31)\n",
    "clev=np.linspace(200,290,num=31)\n",
    "dlev=np.linspace(-10,10,num=21)\n",
    "#clev=np.linspace(277,287,num=31)\n",
    "#ERA - 89 128\n",
    "#CAM -124 72\n",
    "print(Gv.lon_ERA[128], Gv.lat_ERA[89])\n",
    "\n",
    "# Global\n",
    "elon,wlon=0,360\n",
    "slat,nlat=-90,90\n",
    "\n",
    "# Tibet ...\n",
    "#elon,wlon=70,100\n",
    "#slat,nlat=25,40\n",
    "\n",
    "# Andes ...\n",
    "#elon,wlon=280,300\n",
    "#slat,nlat=-40,-10\n",
    "\n",
    "# Himalayan Front\n",
    "#elon,wlon=85,95\n",
    "#slat,nlat=25,28\n",
    "\n",
    "\n",
    "kCAM=57\n",
    "kERA=136\n",
    "kCAM=10\n",
    "kERA=90\n",
    "nCAM=0\n",
    "\n",
    "fig,ax = plt.subplots(2,2,figsize=(18,18) ,squeeze=False )\n",
    "\n",
    "i,j=0,0\n",
    "cf = ax[i,j].tricontourf( Gv.lon_CAM, Gv.lat_CAM, Gv.te_ERA_xCAM[nCAM,kERA,:],levels=clev )\n",
    "ax[i,j].set_xlim(elon,wlon)\n",
    "ax[i,j].set_ylim(slat,nlat)\n",
    "ax[i,j].set_title(\"ERA Temp on xzCAM grid from Python code\")\n",
    "plt.colorbar(cf,ax=ax[i,j] )\n",
    "\n",
    "i,j=0,1\n",
    "cf = ax[i,j].contourf( Gv.lon_ERA, Gv.lat_ERA, Gv.te_ERA[nCAM,kERA,:,:],levels=clev )\n",
    "ax[i,j].set_xlim(elon,wlon)\n",
    "ax[i,j].set_ylim(slat,nlat)\n",
    "ax[i,j].set_title(\"ERA Temp on ERA xz grid\")\n",
    "plt.colorbar(cf,ax=ax[i,j] )\n"
   ]
  },
  {
   "cell_type": "code",
   "execution_count": null,
   "id": "e8cc7c0f-642c-4098-85df-2ba49734998b",
   "metadata": {},
   "outputs": [],
   "source": [
    "clev=np.linspace(200,330,num=31)\n",
    "dlev=np.linspace(-10,10,num=21)\n",
    "#clev=np.linspace(277,287,num=31)\n",
    "#ERA - 89 128\n",
    "#CAM -124 72\n",
    "print(Gv.lon_ERA[128], Gv.lat_ERA[89])\n",
    "\n",
    "# Global\n",
    "elon,wlon=0,360\n",
    "slat,nlat=-90,90\n",
    "\n",
    "# Tibet ...\n",
    "#elon,wlon=70,100\n",
    "#slat,nlat=25,40\n",
    "\n",
    "# Andes ...\n",
    "#elon,wlon=280,300\n",
    "#slat,nlat=-40,-10\n",
    "\n",
    "# Himalayan Front\n",
    "#elon,wlon=85,95\n",
    "#slat,nlat=25,28\n",
    "\n",
    "\n",
    "kCAM=57\n",
    "kERA=136\n",
    "nCAM=5\n",
    "\n",
    "fig,ax = plt.subplots(2,2,figsize=(18,18) ,squeeze=False )\n",
    "\n",
    "i,j=0,0\n",
    "cf = ax[i,j].contourf( Gv.lon_CAM, Gv.lat_CAM, Gv.te_ERA_xzCAM[nCAM,kCAM,:,:],levels=clev )\n",
    "ax[i,j].set_xlim(elon,wlon)\n",
    "ax[i,j].set_ylim(slat,nlat)\n",
    "ax[i,j].set_title(\"ERA Temp on xzCAM grid from Python code\")\n",
    "plt.colorbar(cf,ax=ax[i,j] )\n",
    "\n",
    "i,j=0,1\n",
    "cf = ax[i,j].contourf( Gv.lon_CAM, Gv.lat_CAM, Gv.te_ERA_xCAM[nCAM,kERA,:,:],levels=clev )\n",
    "ax[i,j].set_xlim(elon,wlon)\n",
    "ax[i,j].set_ylim(slat,nlat)\n",
    "ax[i,j].set_title(\"ERA Temp on xCAM/zERA grid\")\n",
    "plt.colorbar(cf,ax=ax[i,j] )\n"
   ]
  },
  {
   "cell_type": "code",
   "execution_count": null,
   "id": "0ec602e2-9654-42ae-a68f-d804de03868a",
   "metadata": {},
   "outputs": [],
   "source": [
    "print( np.minimum( [0.],[200])[0] )"
   ]
  },
  {
   "cell_type": "code",
   "execution_count": null,
   "id": "4bd620f9-c67d-4ea9-a5f7-2599a5bd4205",
   "metadata": {},
   "outputs": [],
   "source": [
    "Dphis = phis_ERA_xCAM - phis_CAM\n",
    "plt.plot(Dphis.flatten()-dphis_WO.flatten() )"
   ]
  },
  {
   "cell_type": "code",
   "execution_count": null,
   "id": "9b79fc12-9301-4a0d-bd17-5ae846e3ad06",
   "metadata": {},
   "outputs": [],
   "source": [
    "file1='/glade/scratch/juliob/ERA5_x_fv1x1_L58_poo4_WO.2017-01-01-18000.nc'\n",
    "dood=xr.open_dataset( file1 )"
   ]
  },
  {
   "cell_type": "markdown",
   "id": "cee4acae-92aa-4208-991c-4552622366c0",
   "metadata": {},
   "source": [
    "## Check Mapping files"
   ]
  },
  {
   "cell_type": "code",
   "execution_count": null,
   "id": "4885882d-d235-48eb-8830-812d0104ae3f",
   "metadata": {},
   "outputs": [],
   "source": [
    "\n",
    "\n",
    "#ERA - 89 128\n",
    "#CAM -124 72\n",
    "jCAM,iCAM = 124,72\n",
    "jERA,iERA = 89,128\n",
    "nCAM = 3\n",
    "\n",
    "plt.plot( te_ERA_xCAM [nCAM,:, jCAM, iCAM] , pmid_CAM_zERA [nCAM,:, jCAM, iCAM], '-x' \n",
    "         , label='ERA Temp from Python code on xCAM and zERA' )\n",
    "\n",
    "plt.plot( te_ERA_xCAM_wo2[:, jCAM, iCAM] , press_ERA[:, jCAM, iCAM], '-o' \n",
    "         , label='ERA Temp on xCAM and zERA from GUTS OF W&O' )\n",
    "\n",
    "\n",
    "\n",
    "#plt.plot( te_ERA_xzCAM [0,:,124, 72] , pmid_CAM [0,:,124, 72], '-o' , label='ERA Temp from Python code on xzCAM' )\n",
    "#plt.plot( te_ERA[0,:,89, 128] ,pmid_ERA [0,:,89, 128] ,'-+', label='ERA Temp at closest xERA point' )\n",
    "\n",
    "\n",
    "plt.ylim(88_000.,70_000.)\n",
    "plt.xlim(270,290)\n",
    "plt.legend()\n",
    "\n",
    "print(ps_new[jCAM,iCAM])\n",
    "print(ps_CAM[nCAM,jCAM,iCAM])\n",
    "\n",
    "print(ps_old[jCAM,iCAM])\n",
    "print(ps_ERA_xCAM[nCAM,jCAM,iCAM])\n",
    "\n"
   ]
  }
 ],
 "metadata": {
  "kernelspec": {
   "display_name": "NPL 2022b",
   "language": "python",
   "name": "npl-2022b"
  },
  "language_info": {
   "codemirror_mode": {
    "name": "ipython",
    "version": 3
   },
   "file_extension": ".py",
   "mimetype": "text/x-python",
   "name": "python",
   "nbconvert_exporter": "python",
   "pygments_lexer": "ipython3",
   "version": "3.8.13"
  }
 },
 "nbformat": 4,
 "nbformat_minor": 5
}

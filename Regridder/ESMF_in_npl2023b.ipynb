{
 "cells": [
  {
   "cell_type": "code",
   "execution_count": 1,
   "id": "365c3e86-c854-4c36-83cc-5360ec4e5c62",
   "metadata": {},
   "outputs": [],
   "source": [
    "import esmpy as E"
   ]
  },
  {
   "cell_type": "code",
   "execution_count": 2,
   "id": "c426bc34-6f7f-43eb-b40a-3523035da84c",
   "metadata": {},
   "outputs": [
    {
     "name": "stdout",
     "output_type": "stream",
     "text": [
      "Help on package esmpy:\n",
      "\n",
      "NAME\n",
      "    esmpy\n",
      "\n",
      "DESCRIPTION\n",
      "    ESMPy is a Python interface to the Earth System Modeling Framework (ESMF) \n",
      "    regridding utility. ESMF is software for\n",
      "    building and coupling weather, climate, and related models. ESMF has a robust,\n",
      "    parallel and scalable remapping package, used to generate remapping weights.\n",
      "    It can handle a wide variety of grids and options: logically rectangular grids,\n",
      "    unstructured meshes and sets of unconnected points; regional or global grids;\n",
      "    2D or 3D; and pole and masking options. ESMF also has capabilities to read grid\n",
      "    information from NetCDF files in a variety of formats, including the\n",
      "    `Climate and Forecast (CF) V1.6 (a.k.a GridSpec) <http://cfconventions.org/cf-conventions/v1.6.0/cf-conventions.html>`_,\n",
      "    `UGRID <https://github.com/ugrid-conventions/ugrid-conventions>`_,\n",
      "    ESMF Unstructured and SCRIP conventions. Information on these last two conventions\n",
      "    can be found in the\n",
      "    `ESMF Reference Manual <http://earthsystemmodeling.org/docs/release/latest/ESMF_refdoc/>`_.\n",
      "    \n",
      "    ESMPy provides a :class:`~esmpy.api.grid.Grid` to represent single-tile logically\n",
      "    rectangular coordinate data, a :class:`~esmpy.api.mesh.Mesh` for unstructured \n",
      "    coordinates, and a :class:`~esmpy.api.locstream.LocStream` for collections of\n",
      "    unconnected points like observational data streams.\n",
      "    ESMPy supports bilinear, nearest neighbor, higher order patch recovery, \n",
      "    first-order conservative and second-order conservative regridding. There is \n",
      "    also an option to ignore unmapped destination points, mask out points on either\n",
      "    the source or destination, choose straight line or great circle paths when using\n",
      "    spherical coordinates and extrapolate data to points outside of the destination\n",
      "    domain. Regridding on the sphere takes place in 3D Cartesian space, so the pole\n",
      "    problem is not an issue as it commonly is with many Earth system grid remapping\n",
      "    softwares. :class:`~esmpy.api.grid.Grid` and :class:`~esmpy.api.mesh.Mesh` \n",
      "    objects can be created in 2D or 3D space, and 3D conservative regridding is \n",
      "    fully supported.\n",
      "    \n",
      "    Regridding, also called remapping or interpolation, is the process of changing\n",
      "    the grid underneath field data values while preserving the qualities of the\n",
      "    original data. Different kinds of transformations are appropriate for\n",
      "    different problems. Regridding may be needed when communicating data between\n",
      "    Earth system modeling components such as land and atmosphere, or between\n",
      "    different data sets to support analysis or visualization.\n",
      "    \n",
      "    Regridding can be broken into two stages. The first stage is generation of an\n",
      "    interpolation weight matrix that describes how points in the source grid\n",
      "    contribute to points in the destination grid. The second stage is the\n",
      "    multiplication of values on the source grid by the interpolation weight matrix\n",
      "    to produce the appropriate values on the destination grid. ESMPy provides\n",
      "    access to both stages through two separate interfaces.\n",
      "    \n",
      "    There are many different interpolation methods, suitable for different problems.\n",
      "    In ESMPy, the basic bilinear option is a two dimensional variant of linear \n",
      "    interpolation. The higher order patch recovery is a second degree polynomial \n",
      "    regridding method, which uses a least squares algorithm to calculate the \n",
      "    polynomial. This method gives better derivatives in the resulting destination \n",
      "    field than the bilinear. There are two nearest-neighbor methods which map the \n",
      "    points from one grid to the nearest corresponding point on the other grid, from\n",
      "    either source to destination or vice versa. These are useful for extrapolation \n",
      "    or categorical fields. \n",
      "    \n",
      "    The first-order conservative regridding is a method designed to preserve the \n",
      "    integral of the field across the interpolation from source to destination.  It \n",
      "    uses the proportion of the area of the overlapping source and destination cells\n",
      "    to determine appropriate weights. The second-order conservative method also \n",
      "    preserves the integral, but uses the source gradient to give a smoother result \n",
      "    than the first-order conservative. All of these methods can be broken down to a\n",
      "    simple sparse matrix multiplication operation between interpolation weights and\n",
      "    data values.\n",
      "\n",
      "PACKAGE CONTENTS\n",
      "    api (package)\n",
      "    interface (package)\n",
      "    test (package)\n",
      "    util (package)\n",
      "\n",
      "SUBMODULES\n",
      "    constants\n",
      "\n",
      "DATA\n",
      "    __description__ = 'ESMF Python interface'\n",
      "    __email__ = 'ESMF Core Team <esmf_support@ucar.edu>'\n",
      "    __homepage__ = None\n",
      "    __license__ = 'University of Illinois-NCSA'\n",
      "    __obsoletes__ = None\n",
      "    __requires__ = 'numpy'\n",
      "    __requires_python__ = '>=3.7'\n",
      "    element = 1\n",
      "    esmpy_test_exhaustive = False\n",
      "    msg = <importlib.metadata._adapters.Message object>\n",
      "    node = 0\n",
      "\n",
      "VERSION\n",
      "    8.4.2\n",
      "\n",
      "AUTHOR\n",
      "    None\n",
      "\n",
      "FILE\n",
      "    /glade/u/apps/opt/conda/envs/npl-2023b/lib/python3.10/site-packages/esmpy/__init__.py\n",
      "\n",
      "\n"
     ]
    }
   ],
   "source": [
    "help(E)"
   ]
  },
  {
   "cell_type": "code",
   "execution_count": 4,
   "id": "52d4b385-0862-4d79-9b41-ac8de79f9939",
   "metadata": {},
   "outputs": [
    {
     "name": "stdout",
     "output_type": "stream",
     "text": [
      "The current Conda environment is: npl-2023b\n"
     ]
    }
   ],
   "source": [
    "import os\n",
    "\n",
    "def get_conda_env_name():\n",
    "    return os.environ.get('CONDA_DEFAULT_ENV')\n",
    "\n",
    "# Usage\n",
    "env_name = get_conda_env_name()\n",
    "print(f\"The current Conda environment is: {env_name}\")"
   ]
  },
  {
   "cell_type": "code",
   "execution_count": 5,
   "id": "aa462dbf-3b10-4833-b237-1ddfe0074298",
   "metadata": {},
   "outputs": [
    {
     "name": "stdout",
     "output_type": "stream",
     "text": [
      "npl-2023b\n"
     ]
    }
   ],
   "source": [
    "print( os.environ.get('CONDA_DEFAULT_ENV') )"
   ]
  },
  {
   "cell_type": "code",
   "execution_count": null,
   "id": "ab181869-4276-4433-835b-de3d81a76639",
   "metadata": {},
   "outputs": [],
   "source": []
  }
 ],
 "metadata": {
  "kernelspec": {
   "display_name": "NPL 2023b",
   "language": "python",
   "name": "npl-2023b"
  },
  "language_info": {
   "codemirror_mode": {
    "name": "ipython",
    "version": 3
   },
   "file_extension": ".py",
   "mimetype": "text/x-python",
   "name": "python",
   "nbconvert_exporter": "python",
   "pygments_lexer": "ipython3",
   "version": "3.10.12"
  }
 },
 "nbformat": 4,
 "nbformat_minor": 5
}

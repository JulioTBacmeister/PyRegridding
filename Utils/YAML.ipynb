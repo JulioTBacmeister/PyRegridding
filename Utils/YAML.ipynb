{
 "cells": [
  {
   "cell_type": "code",
   "execution_count": 1,
   "id": "b997d592-6e16-44bb-b53b-349e04ab8c04",
   "metadata": {},
   "outputs": [],
   "source": [
    "import yaml"
   ]
  },
  {
   "cell_type": "code",
   "execution_count": 2,
   "id": "d11d1163-bf57-4877-adf2-34a8ad3664c0",
   "metadata": {
    "tags": []
   },
   "outputs": [],
   "source": [
    "with open('config_ADF.yaml', 'r') as file:\n",
    "    var_detail = yaml.safe_load(file)"
   ]
  },
  {
   "cell_type": "code",
   "execution_count": 3,
   "id": "6862d75d-1cc0-42dc-a8b4-0496edbcae17",
   "metadata": {
    "tags": []
   },
   "outputs": [
    {
     "data": {
      "text/plain": [
       "{'colormap': 'Blues',\n",
       " 'contour_levels_range': [-10, 90, 5],\n",
       " 'diff_colormap': 'BrBG',\n",
       " 'diff_contour_range': [-15, 15, 2],\n",
       " 'scale_factor': 1,\n",
       " 'add_offset': 0,\n",
       " 'new_unit': 'ms$^{-1}$',\n",
       " 'mpl': {'colorbar': {'label': 'ms$^{-1}$'}},\n",
       " 'obs_file': 'ERAI_all_climo.nc',\n",
       " 'obs_name': 'ERAI',\n",
       " 'obs_var_name': 'U',\n",
       " 'vector_pair': 'V',\n",
       " 'vector_name': 'Wind',\n",
       " 'category': 'State'}"
      ]
     },
     "execution_count": 3,
     "metadata": {},
     "output_type": "execute_result"
    }
   ],
   "source": [
    "var_detail['U']"
   ]
  },
  {
   "cell_type": "code",
   "execution_count": 4,
   "id": "37ab1dcf-b7ad-453b-8327-8d5ce3dbd1bd",
   "metadata": {
    "tags": []
   },
   "outputs": [
    {
     "name": "stdout",
     "output_type": "stream",
     "text": [
      "colormap: Blues\n",
      "contour_levels_range: [-10, 90, 5]\n",
      "diff_colormap: BrBG\n",
      "diff_contour_range: [-15, 15, 2]\n",
      "scale_factor: 1\n",
      "add_offset: 0\n",
      "new_unit: ms$^{-1}$\n",
      "mpl: {'colorbar': {'label': 'ms$^{-1}$'}}\n",
      "obs_file: ERAI_all_climo.nc\n",
      "obs_name: ERAI\n",
      "obs_var_name: U\n",
      "vector_pair: V\n",
      "vector_name: Wind\n",
      "category: State\n"
     ]
    }
   ],
   "source": [
    "for key,val in var_detail['U'].items():\n",
    "    print(f\"{key}: {val}\")"
   ]
  },
  {
   "cell_type": "code",
   "execution_count": 8,
   "id": "e7d95232-974e-4f84-9f02-5447849ad8c4",
   "metadata": {},
   "outputs": [
    {
     "name": "stdout",
     "output_type": "stream",
     "text": [
      "[-15, 15, 2] \n",
      "\n",
      "ms$^{-1}$\n"
     ]
    }
   ],
   "source": [
    "# Get nested values as you would normally from a python dictionary\n",
    "print(var_detail['U']['diff_contour_range'],\"\\n\")\n",
    "print(var_detail['U']['mpl']['colorbar']['label'])"
   ]
  }
 ],
 "metadata": {
  "kernelspec": {
   "display_name": "Python [conda env:npl-XTND]",
   "language": "python",
   "name": "conda-env-npl-XTND-py"
  },
  "language_info": {
   "codemirror_mode": {
    "name": "ipython",
    "version": 3
   },
   "file_extension": ".py",
   "mimetype": "text/x-python",
   "name": "python",
   "nbconvert_exporter": "python",
   "pygments_lexer": "ipython3",
   "version": "3.8.13"
  }
 },
 "nbformat": 4,
 "nbformat_minor": 5
}
